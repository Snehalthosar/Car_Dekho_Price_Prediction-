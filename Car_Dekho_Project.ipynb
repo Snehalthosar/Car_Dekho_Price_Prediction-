{
 "cells": [
  {
   "cell_type": "code",
   "execution_count": 1,
   "id": "9baf2d7b",
   "metadata": {},
   "outputs": [],
   "source": [
    "import pandas as pd\n",
    "import numpy as np\n",
    "\n",
    "from statsmodels.stats.outliers_influence import variance_inflation_factor\n",
    "from sklearn.model_selection import train_test_split\n",
    "\n",
    "from sklearn.linear_model import LinearRegression\n",
    "from sklearn.metrics import mean_squared_error, r2_score, mean_absolute_error\n",
    "\n",
    "import matplotlib.pyplot as plt\n",
    "import seaborn as sns\n",
    "\n",
    "from scipy.stats import shapiro,kstest,normaltest,skew\n",
    "import statsmodels.api as sm\n",
    "\n",
    "import pickle\n",
    "import json\n",
    "\n",
    "import warnings\n",
    "warnings.filterwarnings('ignore')"
   ]
  },
  {
   "cell_type": "markdown",
   "id": "f38099fe",
   "metadata": {},
   "source": [
    "### 1.Problem Statment"
   ]
  },
  {
   "cell_type": "raw",
   "id": "2ef91377",
   "metadata": {},
   "source": [
    "Problem Statement -\n",
    "    This dataset contains information about \"Secound hand cars\" and we are going to predict \n",
    "    the Selling Price of Car by using below variables\n",
    "    \n",
    "            Car_Name       -Name of the car.\n",
    "            Year           -The year in which the car was bought.\n",
    "            Present_Price  -Current ex-showroom price of the car.\n",
    "            Kms_Driven     -The distance completed by the car in km.\n",
    "            Fuel_Type      -Fuel type of the car.\n",
    "            Seller_Type    -Defines whether the seller is a dealer or an individual.\n",
    "            Transmission   -Defines whether the car is manual or automatic.\n",
    "            Owner          -Defines the number of owners the car has previously had.\n",
    "            Selling_Price  -The price the owner wants to sell the car at.(TARGET)"
   ]
  },
  {
   "cell_type": "markdown",
   "id": "71dcd1a9",
   "metadata": {},
   "source": [
    "### 2.Data Gathering"
   ]
  },
  {
   "cell_type": "code",
   "execution_count": 2,
   "id": "00ca43f4",
   "metadata": {},
   "outputs": [
    {
     "data": {
      "text/html": [
       "<div>\n",
       "<style scoped>\n",
       "    .dataframe tbody tr th:only-of-type {\n",
       "        vertical-align: middle;\n",
       "    }\n",
       "\n",
       "    .dataframe tbody tr th {\n",
       "        vertical-align: top;\n",
       "    }\n",
       "\n",
       "    .dataframe thead th {\n",
       "        text-align: right;\n",
       "    }\n",
       "</style>\n",
       "<table border=\"1\" class=\"dataframe\">\n",
       "  <thead>\n",
       "    <tr style=\"text-align: right;\">\n",
       "      <th></th>\n",
       "      <th>Car_Name</th>\n",
       "      <th>Year</th>\n",
       "      <th>Selling_Price</th>\n",
       "      <th>Present_Price</th>\n",
       "      <th>Kms_Driven</th>\n",
       "      <th>Fuel_Type</th>\n",
       "      <th>Seller_Type</th>\n",
       "      <th>Transmission</th>\n",
       "      <th>Owner</th>\n",
       "    </tr>\n",
       "  </thead>\n",
       "  <tbody>\n",
       "    <tr>\n",
       "      <th>0</th>\n",
       "      <td>ritz</td>\n",
       "      <td>2014</td>\n",
       "      <td>3.35</td>\n",
       "      <td>5.59</td>\n",
       "      <td>27000</td>\n",
       "      <td>Petrol</td>\n",
       "      <td>Dealer</td>\n",
       "      <td>Manual</td>\n",
       "      <td>0</td>\n",
       "    </tr>\n",
       "    <tr>\n",
       "      <th>1</th>\n",
       "      <td>sx4</td>\n",
       "      <td>2013</td>\n",
       "      <td>4.75</td>\n",
       "      <td>9.54</td>\n",
       "      <td>43000</td>\n",
       "      <td>Diesel</td>\n",
       "      <td>Dealer</td>\n",
       "      <td>Manual</td>\n",
       "      <td>0</td>\n",
       "    </tr>\n",
       "    <tr>\n",
       "      <th>2</th>\n",
       "      <td>ciaz</td>\n",
       "      <td>2017</td>\n",
       "      <td>7.25</td>\n",
       "      <td>9.85</td>\n",
       "      <td>6900</td>\n",
       "      <td>Petrol</td>\n",
       "      <td>Dealer</td>\n",
       "      <td>Manual</td>\n",
       "      <td>0</td>\n",
       "    </tr>\n",
       "    <tr>\n",
       "      <th>3</th>\n",
       "      <td>wagon r</td>\n",
       "      <td>2011</td>\n",
       "      <td>2.85</td>\n",
       "      <td>4.15</td>\n",
       "      <td>5200</td>\n",
       "      <td>Petrol</td>\n",
       "      <td>Dealer</td>\n",
       "      <td>Manual</td>\n",
       "      <td>0</td>\n",
       "    </tr>\n",
       "    <tr>\n",
       "      <th>4</th>\n",
       "      <td>swift</td>\n",
       "      <td>2014</td>\n",
       "      <td>4.60</td>\n",
       "      <td>6.87</td>\n",
       "      <td>42450</td>\n",
       "      <td>Diesel</td>\n",
       "      <td>Dealer</td>\n",
       "      <td>Manual</td>\n",
       "      <td>0</td>\n",
       "    </tr>\n",
       "    <tr>\n",
       "      <th>...</th>\n",
       "      <td>...</td>\n",
       "      <td>...</td>\n",
       "      <td>...</td>\n",
       "      <td>...</td>\n",
       "      <td>...</td>\n",
       "      <td>...</td>\n",
       "      <td>...</td>\n",
       "      <td>...</td>\n",
       "      <td>...</td>\n",
       "    </tr>\n",
       "    <tr>\n",
       "      <th>296</th>\n",
       "      <td>city</td>\n",
       "      <td>2016</td>\n",
       "      <td>9.50</td>\n",
       "      <td>11.60</td>\n",
       "      <td>33988</td>\n",
       "      <td>Diesel</td>\n",
       "      <td>Dealer</td>\n",
       "      <td>Manual</td>\n",
       "      <td>0</td>\n",
       "    </tr>\n",
       "    <tr>\n",
       "      <th>297</th>\n",
       "      <td>brio</td>\n",
       "      <td>2015</td>\n",
       "      <td>4.00</td>\n",
       "      <td>5.90</td>\n",
       "      <td>60000</td>\n",
       "      <td>Petrol</td>\n",
       "      <td>Dealer</td>\n",
       "      <td>Manual</td>\n",
       "      <td>0</td>\n",
       "    </tr>\n",
       "    <tr>\n",
       "      <th>298</th>\n",
       "      <td>city</td>\n",
       "      <td>2009</td>\n",
       "      <td>3.35</td>\n",
       "      <td>11.00</td>\n",
       "      <td>87934</td>\n",
       "      <td>Petrol</td>\n",
       "      <td>Dealer</td>\n",
       "      <td>Manual</td>\n",
       "      <td>0</td>\n",
       "    </tr>\n",
       "    <tr>\n",
       "      <th>299</th>\n",
       "      <td>city</td>\n",
       "      <td>2017</td>\n",
       "      <td>11.50</td>\n",
       "      <td>12.50</td>\n",
       "      <td>9000</td>\n",
       "      <td>Diesel</td>\n",
       "      <td>Dealer</td>\n",
       "      <td>Manual</td>\n",
       "      <td>0</td>\n",
       "    </tr>\n",
       "    <tr>\n",
       "      <th>300</th>\n",
       "      <td>brio</td>\n",
       "      <td>2016</td>\n",
       "      <td>5.30</td>\n",
       "      <td>5.90</td>\n",
       "      <td>5464</td>\n",
       "      <td>Petrol</td>\n",
       "      <td>Dealer</td>\n",
       "      <td>Manual</td>\n",
       "      <td>0</td>\n",
       "    </tr>\n",
       "  </tbody>\n",
       "</table>\n",
       "<p>301 rows × 9 columns</p>\n",
       "</div>"
      ],
      "text/plain": [
       "    Car_Name  Year  Selling_Price  Present_Price  Kms_Driven Fuel_Type   \n",
       "0       ritz  2014           3.35           5.59       27000    Petrol  \\\n",
       "1        sx4  2013           4.75           9.54       43000    Diesel   \n",
       "2       ciaz  2017           7.25           9.85        6900    Petrol   \n",
       "3    wagon r  2011           2.85           4.15        5200    Petrol   \n",
       "4      swift  2014           4.60           6.87       42450    Diesel   \n",
       "..       ...   ...            ...            ...         ...       ...   \n",
       "296     city  2016           9.50          11.60       33988    Diesel   \n",
       "297     brio  2015           4.00           5.90       60000    Petrol   \n",
       "298     city  2009           3.35          11.00       87934    Petrol   \n",
       "299     city  2017          11.50          12.50        9000    Diesel   \n",
       "300     brio  2016           5.30           5.90        5464    Petrol   \n",
       "\n",
       "    Seller_Type Transmission  Owner  \n",
       "0        Dealer       Manual      0  \n",
       "1        Dealer       Manual      0  \n",
       "2        Dealer       Manual      0  \n",
       "3        Dealer       Manual      0  \n",
       "4        Dealer       Manual      0  \n",
       "..          ...          ...    ...  \n",
       "296      Dealer       Manual      0  \n",
       "297      Dealer       Manual      0  \n",
       "298      Dealer       Manual      0  \n",
       "299      Dealer       Manual      0  \n",
       "300      Dealer       Manual      0  \n",
       "\n",
       "[301 rows x 9 columns]"
      ]
     },
     "execution_count": 2,
     "metadata": {},
     "output_type": "execute_result"
    }
   ],
   "source": [
    "df = pd.read_csv(\"car data.csv\")\n",
    "df"
   ]
  },
  {
   "cell_type": "code",
   "execution_count": 3,
   "id": "2f1321fb",
   "metadata": {},
   "outputs": [
    {
     "name": "stdout",
     "output_type": "stream",
     "text": [
      "<class 'pandas.core.frame.DataFrame'>\n",
      "RangeIndex: 301 entries, 0 to 300\n",
      "Data columns (total 9 columns):\n",
      " #   Column         Non-Null Count  Dtype  \n",
      "---  ------         --------------  -----  \n",
      " 0   Car_Name       301 non-null    object \n",
      " 1   Year           301 non-null    int64  \n",
      " 2   Selling_Price  301 non-null    float64\n",
      " 3   Present_Price  301 non-null    float64\n",
      " 4   Kms_Driven     301 non-null    int64  \n",
      " 5   Fuel_Type      301 non-null    object \n",
      " 6   Seller_Type    301 non-null    object \n",
      " 7   Transmission   301 non-null    object \n",
      " 8   Owner          301 non-null    int64  \n",
      "dtypes: float64(2), int64(3), object(4)\n",
      "memory usage: 21.3+ KB\n"
     ]
    }
   ],
   "source": [
    "df.info()"
   ]
  },
  {
   "cell_type": "markdown",
   "id": "9457b311",
   "metadata": {},
   "source": [
    "### 3.Exploratory Data Analysis(EDA)"
   ]
  },
  {
   "cell_type": "raw",
   "id": "b6b33c60",
   "metadata": {},
   "source": [
    "1. Missing Values\n",
    "2. Outliers\n",
    "3. Categorical Data(Object DataTypes)"
   ]
  },
  {
   "cell_type": "code",
   "execution_count": 4,
   "id": "f4176813",
   "metadata": {},
   "outputs": [
    {
     "data": {
      "text/plain": [
       "Car_Name         0\n",
       "Year             0\n",
       "Selling_Price    0\n",
       "Present_Price    0\n",
       "Kms_Driven       0\n",
       "Fuel_Type        0\n",
       "Seller_Type      0\n",
       "Transmission     0\n",
       "Owner            0\n",
       "dtype: int64"
      ]
     },
     "execution_count": 4,
     "metadata": {},
     "output_type": "execute_result"
    }
   ],
   "source": [
    "df.isna().sum()"
   ]
  },
  {
   "cell_type": "code",
   "execution_count": 5,
   "id": "b76d9934",
   "metadata": {},
   "outputs": [
    {
     "data": {
      "text/plain": [
       "Car_Name\n",
       "city                        26\n",
       "corolla altis               16\n",
       "verna                       14\n",
       "fortuner                    11\n",
       "brio                        10\n",
       "                            ..\n",
       "Honda CB Trigger             1\n",
       "Yamaha FZ S                  1\n",
       "Bajaj Pulsar 135 LS          1\n",
       "Activa 4g                    1\n",
       "Bajaj Avenger Street 220     1\n",
       "Name: count, Length: 98, dtype: int64"
      ]
     },
     "execution_count": 5,
     "metadata": {},
     "output_type": "execute_result"
    }
   ],
   "source": [
    "df.Car_Name.value_counts()"
   ]
  },
  {
   "cell_type": "code",
   "execution_count": 6,
   "id": "e013a54c",
   "metadata": {},
   "outputs": [
    {
     "data": {
      "text/plain": [
       "array(['Petrol', 'Diesel', 'CNG'], dtype=object)"
      ]
     },
     "execution_count": 6,
     "metadata": {},
     "output_type": "execute_result"
    }
   ],
   "source": [
    "df[\"Fuel_Type\"].unique()"
   ]
  },
  {
   "cell_type": "markdown",
   "id": "63e3b018",
   "metadata": {},
   "source": [
    "### 4.feature Engineering"
   ]
  },
  {
   "cell_type": "raw",
   "id": "9523a3f2",
   "metadata": {},
   "source": [
    "1. Feature Transformation:\n",
    "    Log Transformation\n",
    "    Sqaure root\n",
    "    box cox\n",
    "    yeo-johnson\n",
    "    \n",
    "2. Impute Missing Values\n",
    "3. Encoding:\n",
    "    Label \n",
    "    One Hot"
   ]
  },
  {
   "cell_type": "markdown",
   "id": "f35b5069",
   "metadata": {},
   "source": [
    "##### Encoding"
   ]
  },
  {
   "cell_type": "code",
   "execution_count": 7,
   "id": "c9b9ec10",
   "metadata": {},
   "outputs": [
    {
     "data": {
      "text/html": [
       "<div>\n",
       "<style scoped>\n",
       "    .dataframe tbody tr th:only-of-type {\n",
       "        vertical-align: middle;\n",
       "    }\n",
       "\n",
       "    .dataframe tbody tr th {\n",
       "        vertical-align: top;\n",
       "    }\n",
       "\n",
       "    .dataframe thead th {\n",
       "        text-align: right;\n",
       "    }\n",
       "</style>\n",
       "<table border=\"1\" class=\"dataframe\">\n",
       "  <thead>\n",
       "    <tr style=\"text-align: right;\">\n",
       "      <th></th>\n",
       "      <th>Car_Name</th>\n",
       "      <th>Year</th>\n",
       "      <th>Selling_Price</th>\n",
       "      <th>Present_Price</th>\n",
       "      <th>Kms_Driven</th>\n",
       "      <th>Seller_Type</th>\n",
       "      <th>Transmission</th>\n",
       "      <th>Owner</th>\n",
       "      <th>Fuel_Type_CNG</th>\n",
       "      <th>Fuel_Type_Diesel</th>\n",
       "      <th>Fuel_Type_Petrol</th>\n",
       "    </tr>\n",
       "  </thead>\n",
       "  <tbody>\n",
       "    <tr>\n",
       "      <th>0</th>\n",
       "      <td>ritz</td>\n",
       "      <td>2014</td>\n",
       "      <td>3.35</td>\n",
       "      <td>5.59</td>\n",
       "      <td>27000</td>\n",
       "      <td>Dealer</td>\n",
       "      <td>Manual</td>\n",
       "      <td>0</td>\n",
       "      <td>0</td>\n",
       "      <td>0</td>\n",
       "      <td>1</td>\n",
       "    </tr>\n",
       "    <tr>\n",
       "      <th>1</th>\n",
       "      <td>sx4</td>\n",
       "      <td>2013</td>\n",
       "      <td>4.75</td>\n",
       "      <td>9.54</td>\n",
       "      <td>43000</td>\n",
       "      <td>Dealer</td>\n",
       "      <td>Manual</td>\n",
       "      <td>0</td>\n",
       "      <td>0</td>\n",
       "      <td>1</td>\n",
       "      <td>0</td>\n",
       "    </tr>\n",
       "    <tr>\n",
       "      <th>2</th>\n",
       "      <td>ciaz</td>\n",
       "      <td>2017</td>\n",
       "      <td>7.25</td>\n",
       "      <td>9.85</td>\n",
       "      <td>6900</td>\n",
       "      <td>Dealer</td>\n",
       "      <td>Manual</td>\n",
       "      <td>0</td>\n",
       "      <td>0</td>\n",
       "      <td>0</td>\n",
       "      <td>1</td>\n",
       "    </tr>\n",
       "    <tr>\n",
       "      <th>3</th>\n",
       "      <td>wagon r</td>\n",
       "      <td>2011</td>\n",
       "      <td>2.85</td>\n",
       "      <td>4.15</td>\n",
       "      <td>5200</td>\n",
       "      <td>Dealer</td>\n",
       "      <td>Manual</td>\n",
       "      <td>0</td>\n",
       "      <td>0</td>\n",
       "      <td>0</td>\n",
       "      <td>1</td>\n",
       "    </tr>\n",
       "    <tr>\n",
       "      <th>4</th>\n",
       "      <td>swift</td>\n",
       "      <td>2014</td>\n",
       "      <td>4.60</td>\n",
       "      <td>6.87</td>\n",
       "      <td>42450</td>\n",
       "      <td>Dealer</td>\n",
       "      <td>Manual</td>\n",
       "      <td>0</td>\n",
       "      <td>0</td>\n",
       "      <td>1</td>\n",
       "      <td>0</td>\n",
       "    </tr>\n",
       "    <tr>\n",
       "      <th>...</th>\n",
       "      <td>...</td>\n",
       "      <td>...</td>\n",
       "      <td>...</td>\n",
       "      <td>...</td>\n",
       "      <td>...</td>\n",
       "      <td>...</td>\n",
       "      <td>...</td>\n",
       "      <td>...</td>\n",
       "      <td>...</td>\n",
       "      <td>...</td>\n",
       "      <td>...</td>\n",
       "    </tr>\n",
       "    <tr>\n",
       "      <th>296</th>\n",
       "      <td>city</td>\n",
       "      <td>2016</td>\n",
       "      <td>9.50</td>\n",
       "      <td>11.60</td>\n",
       "      <td>33988</td>\n",
       "      <td>Dealer</td>\n",
       "      <td>Manual</td>\n",
       "      <td>0</td>\n",
       "      <td>0</td>\n",
       "      <td>1</td>\n",
       "      <td>0</td>\n",
       "    </tr>\n",
       "    <tr>\n",
       "      <th>297</th>\n",
       "      <td>brio</td>\n",
       "      <td>2015</td>\n",
       "      <td>4.00</td>\n",
       "      <td>5.90</td>\n",
       "      <td>60000</td>\n",
       "      <td>Dealer</td>\n",
       "      <td>Manual</td>\n",
       "      <td>0</td>\n",
       "      <td>0</td>\n",
       "      <td>0</td>\n",
       "      <td>1</td>\n",
       "    </tr>\n",
       "    <tr>\n",
       "      <th>298</th>\n",
       "      <td>city</td>\n",
       "      <td>2009</td>\n",
       "      <td>3.35</td>\n",
       "      <td>11.00</td>\n",
       "      <td>87934</td>\n",
       "      <td>Dealer</td>\n",
       "      <td>Manual</td>\n",
       "      <td>0</td>\n",
       "      <td>0</td>\n",
       "      <td>0</td>\n",
       "      <td>1</td>\n",
       "    </tr>\n",
       "    <tr>\n",
       "      <th>299</th>\n",
       "      <td>city</td>\n",
       "      <td>2017</td>\n",
       "      <td>11.50</td>\n",
       "      <td>12.50</td>\n",
       "      <td>9000</td>\n",
       "      <td>Dealer</td>\n",
       "      <td>Manual</td>\n",
       "      <td>0</td>\n",
       "      <td>0</td>\n",
       "      <td>1</td>\n",
       "      <td>0</td>\n",
       "    </tr>\n",
       "    <tr>\n",
       "      <th>300</th>\n",
       "      <td>brio</td>\n",
       "      <td>2016</td>\n",
       "      <td>5.30</td>\n",
       "      <td>5.90</td>\n",
       "      <td>5464</td>\n",
       "      <td>Dealer</td>\n",
       "      <td>Manual</td>\n",
       "      <td>0</td>\n",
       "      <td>0</td>\n",
       "      <td>0</td>\n",
       "      <td>1</td>\n",
       "    </tr>\n",
       "  </tbody>\n",
       "</table>\n",
       "<p>301 rows × 11 columns</p>\n",
       "</div>"
      ],
      "text/plain": [
       "    Car_Name  Year  Selling_Price  Present_Price  Kms_Driven Seller_Type   \n",
       "0       ritz  2014           3.35           5.59       27000      Dealer  \\\n",
       "1        sx4  2013           4.75           9.54       43000      Dealer   \n",
       "2       ciaz  2017           7.25           9.85        6900      Dealer   \n",
       "3    wagon r  2011           2.85           4.15        5200      Dealer   \n",
       "4      swift  2014           4.60           6.87       42450      Dealer   \n",
       "..       ...   ...            ...            ...         ...         ...   \n",
       "296     city  2016           9.50          11.60       33988      Dealer   \n",
       "297     brio  2015           4.00           5.90       60000      Dealer   \n",
       "298     city  2009           3.35          11.00       87934      Dealer   \n",
       "299     city  2017          11.50          12.50        9000      Dealer   \n",
       "300     brio  2016           5.30           5.90        5464      Dealer   \n",
       "\n",
       "    Transmission  Owner  Fuel_Type_CNG  Fuel_Type_Diesel  Fuel_Type_Petrol  \n",
       "0         Manual      0              0                 0                 1  \n",
       "1         Manual      0              0                 1                 0  \n",
       "2         Manual      0              0                 0                 1  \n",
       "3         Manual      0              0                 0                 1  \n",
       "4         Manual      0              0                 1                 0  \n",
       "..           ...    ...            ...               ...               ...  \n",
       "296       Manual      0              0                 1                 0  \n",
       "297       Manual      0              0                 0                 1  \n",
       "298       Manual      0              0                 0                 1  \n",
       "299       Manual      0              0                 1                 0  \n",
       "300       Manual      0              0                 0                 1  \n",
       "\n",
       "[301 rows x 11 columns]"
      ]
     },
     "execution_count": 7,
     "metadata": {},
     "output_type": "execute_result"
    }
   ],
   "source": [
    "df = pd.get_dummies(df,columns=['Fuel_Type'], dtype = int)\n",
    "df"
   ]
  },
  {
   "cell_type": "code",
   "execution_count": 8,
   "id": "aa335c17",
   "metadata": {},
   "outputs": [],
   "source": [
    "#df[\"Fuel_Type\"].value_counts"
   ]
  },
  {
   "cell_type": "code",
   "execution_count": 9,
   "id": "2228d061",
   "metadata": {},
   "outputs": [
    {
     "data": {
      "text/plain": [
       "Seller_Type\n",
       "Dealer        195\n",
       "Individual    106\n",
       "Name: count, dtype: int64"
      ]
     },
     "execution_count": 9,
     "metadata": {},
     "output_type": "execute_result"
    }
   ],
   "source": [
    "df[\"Seller_Type\"].value_counts()"
   ]
  },
  {
   "cell_type": "code",
   "execution_count": 10,
   "id": "88be0441",
   "metadata": {},
   "outputs": [],
   "source": [
    "df[\"Seller_Type\"].replace({\"Dealer\":0,\"Individual\":1},inplace = True)\n",
    "#df"
   ]
  },
  {
   "cell_type": "code",
   "execution_count": 11,
   "id": "8b0ed8ef",
   "metadata": {},
   "outputs": [],
   "source": [
    "Seller_Type_Data = {\"Dealer\":0,\"Individual\":1}"
   ]
  },
  {
   "cell_type": "code",
   "execution_count": 12,
   "id": "398441de",
   "metadata": {},
   "outputs": [
    {
     "name": "stdout",
     "output_type": "stream",
     "text": [
      "<class 'pandas.core.frame.DataFrame'>\n",
      "RangeIndex: 301 entries, 0 to 300\n",
      "Data columns (total 11 columns):\n",
      " #   Column            Non-Null Count  Dtype  \n",
      "---  ------            --------------  -----  \n",
      " 0   Car_Name          301 non-null    object \n",
      " 1   Year              301 non-null    int64  \n",
      " 2   Selling_Price     301 non-null    float64\n",
      " 3   Present_Price     301 non-null    float64\n",
      " 4   Kms_Driven        301 non-null    int64  \n",
      " 5   Seller_Type       301 non-null    int64  \n",
      " 6   Transmission      301 non-null    object \n",
      " 7   Owner             301 non-null    int64  \n",
      " 8   Fuel_Type_CNG     301 non-null    int32  \n",
      " 9   Fuel_Type_Diesel  301 non-null    int32  \n",
      " 10  Fuel_Type_Petrol  301 non-null    int32  \n",
      "dtypes: float64(2), int32(3), int64(4), object(2)\n",
      "memory usage: 22.5+ KB\n"
     ]
    }
   ],
   "source": [
    "df.info()"
   ]
  },
  {
   "cell_type": "code",
   "execution_count": 13,
   "id": "18c8e0bb",
   "metadata": {},
   "outputs": [
    {
     "data": {
      "text/plain": [
       "array(['Manual', 'Automatic'], dtype=object)"
      ]
     },
     "execution_count": 13,
     "metadata": {},
     "output_type": "execute_result"
    }
   ],
   "source": [
    "df[\"Transmission\"].unique()"
   ]
  },
  {
   "cell_type": "code",
   "execution_count": 14,
   "id": "2196278f",
   "metadata": {},
   "outputs": [
    {
     "data": {
      "text/plain": [
       "Transmission\n",
       "Manual       261\n",
       "Automatic     40\n",
       "Name: count, dtype: int64"
      ]
     },
     "execution_count": 14,
     "metadata": {},
     "output_type": "execute_result"
    }
   ],
   "source": [
    "df[\"Transmission\"].value_counts()"
   ]
  },
  {
   "cell_type": "code",
   "execution_count": 15,
   "id": "1c21591f",
   "metadata": {},
   "outputs": [
    {
     "data": {
      "text/plain": [
       "Transmission\n",
       "0    261\n",
       "1     40\n",
       "Name: count, dtype: int64"
      ]
     },
     "execution_count": 15,
     "metadata": {},
     "output_type": "execute_result"
    }
   ],
   "source": [
    "df[\"Transmission\"].replace({\"Manual\":0,\"Automatic\":1},inplace = True)\n",
    "df[\"Transmission\"].value_counts()"
   ]
  },
  {
   "cell_type": "code",
   "execution_count": 16,
   "id": "0f9ea804",
   "metadata": {},
   "outputs": [],
   "source": [
    "Transmission_data = {\"Manual\":0,\"Automatic\":1}"
   ]
  },
  {
   "cell_type": "markdown",
   "id": "d59c0449",
   "metadata": {},
   "source": [
    "### 5.Feature Selection/Extraction"
   ]
  },
  {
   "cell_type": "raw",
   "id": "6aab7718",
   "metadata": {},
   "source": [
    "Feature Selection >> Best set of feature\n",
    "1. Filter Method:(Before model training)\n",
    "    1. Linearity\n",
    "    2. VIF\n",
    "    \n",
    "2. Wrapper Method(At the time of model training)\n",
    "3. Embedded Method(After model training)"
   ]
  },
  {
   "cell_type": "code",
   "execution_count": null,
   "id": "7a44f6ca",
   "metadata": {},
   "outputs": [],
   "source": []
  },
  {
   "cell_type": "markdown",
   "id": "9aae2f9d",
   "metadata": {},
   "source": [
    "##### 5.1 Linearity"
   ]
  },
  {
   "cell_type": "code",
   "execution_count": 17,
   "id": "4d4d7347",
   "metadata": {},
   "outputs": [
    {
     "data": {
      "text/html": [
       "<div>\n",
       "<style scoped>\n",
       "    .dataframe tbody tr th:only-of-type {\n",
       "        vertical-align: middle;\n",
       "    }\n",
       "\n",
       "    .dataframe tbody tr th {\n",
       "        vertical-align: top;\n",
       "    }\n",
       "\n",
       "    .dataframe thead th {\n",
       "        text-align: right;\n",
       "    }\n",
       "</style>\n",
       "<table border=\"1\" class=\"dataframe\">\n",
       "  <thead>\n",
       "    <tr style=\"text-align: right;\">\n",
       "      <th></th>\n",
       "      <th>Year</th>\n",
       "      <th>Selling_Price</th>\n",
       "      <th>Present_Price</th>\n",
       "      <th>Kms_Driven</th>\n",
       "      <th>Seller_Type</th>\n",
       "      <th>Transmission</th>\n",
       "      <th>Owner</th>\n",
       "      <th>Fuel_Type_CNG</th>\n",
       "      <th>Fuel_Type_Diesel</th>\n",
       "      <th>Fuel_Type_Petrol</th>\n",
       "    </tr>\n",
       "  </thead>\n",
       "  <tbody>\n",
       "    <tr>\n",
       "      <th>0</th>\n",
       "      <td>2014</td>\n",
       "      <td>3.35</td>\n",
       "      <td>5.59</td>\n",
       "      <td>27000</td>\n",
       "      <td>0</td>\n",
       "      <td>0</td>\n",
       "      <td>0</td>\n",
       "      <td>0</td>\n",
       "      <td>0</td>\n",
       "      <td>1</td>\n",
       "    </tr>\n",
       "    <tr>\n",
       "      <th>1</th>\n",
       "      <td>2013</td>\n",
       "      <td>4.75</td>\n",
       "      <td>9.54</td>\n",
       "      <td>43000</td>\n",
       "      <td>0</td>\n",
       "      <td>0</td>\n",
       "      <td>0</td>\n",
       "      <td>0</td>\n",
       "      <td>1</td>\n",
       "      <td>0</td>\n",
       "    </tr>\n",
       "    <tr>\n",
       "      <th>2</th>\n",
       "      <td>2017</td>\n",
       "      <td>7.25</td>\n",
       "      <td>9.85</td>\n",
       "      <td>6900</td>\n",
       "      <td>0</td>\n",
       "      <td>0</td>\n",
       "      <td>0</td>\n",
       "      <td>0</td>\n",
       "      <td>0</td>\n",
       "      <td>1</td>\n",
       "    </tr>\n",
       "    <tr>\n",
       "      <th>3</th>\n",
       "      <td>2011</td>\n",
       "      <td>2.85</td>\n",
       "      <td>4.15</td>\n",
       "      <td>5200</td>\n",
       "      <td>0</td>\n",
       "      <td>0</td>\n",
       "      <td>0</td>\n",
       "      <td>0</td>\n",
       "      <td>0</td>\n",
       "      <td>1</td>\n",
       "    </tr>\n",
       "    <tr>\n",
       "      <th>4</th>\n",
       "      <td>2014</td>\n",
       "      <td>4.60</td>\n",
       "      <td>6.87</td>\n",
       "      <td>42450</td>\n",
       "      <td>0</td>\n",
       "      <td>0</td>\n",
       "      <td>0</td>\n",
       "      <td>0</td>\n",
       "      <td>1</td>\n",
       "      <td>0</td>\n",
       "    </tr>\n",
       "    <tr>\n",
       "      <th>...</th>\n",
       "      <td>...</td>\n",
       "      <td>...</td>\n",
       "      <td>...</td>\n",
       "      <td>...</td>\n",
       "      <td>...</td>\n",
       "      <td>...</td>\n",
       "      <td>...</td>\n",
       "      <td>...</td>\n",
       "      <td>...</td>\n",
       "      <td>...</td>\n",
       "    </tr>\n",
       "    <tr>\n",
       "      <th>296</th>\n",
       "      <td>2016</td>\n",
       "      <td>9.50</td>\n",
       "      <td>11.60</td>\n",
       "      <td>33988</td>\n",
       "      <td>0</td>\n",
       "      <td>0</td>\n",
       "      <td>0</td>\n",
       "      <td>0</td>\n",
       "      <td>1</td>\n",
       "      <td>0</td>\n",
       "    </tr>\n",
       "    <tr>\n",
       "      <th>297</th>\n",
       "      <td>2015</td>\n",
       "      <td>4.00</td>\n",
       "      <td>5.90</td>\n",
       "      <td>60000</td>\n",
       "      <td>0</td>\n",
       "      <td>0</td>\n",
       "      <td>0</td>\n",
       "      <td>0</td>\n",
       "      <td>0</td>\n",
       "      <td>1</td>\n",
       "    </tr>\n",
       "    <tr>\n",
       "      <th>298</th>\n",
       "      <td>2009</td>\n",
       "      <td>3.35</td>\n",
       "      <td>11.00</td>\n",
       "      <td>87934</td>\n",
       "      <td>0</td>\n",
       "      <td>0</td>\n",
       "      <td>0</td>\n",
       "      <td>0</td>\n",
       "      <td>0</td>\n",
       "      <td>1</td>\n",
       "    </tr>\n",
       "    <tr>\n",
       "      <th>299</th>\n",
       "      <td>2017</td>\n",
       "      <td>11.50</td>\n",
       "      <td>12.50</td>\n",
       "      <td>9000</td>\n",
       "      <td>0</td>\n",
       "      <td>0</td>\n",
       "      <td>0</td>\n",
       "      <td>0</td>\n",
       "      <td>1</td>\n",
       "      <td>0</td>\n",
       "    </tr>\n",
       "    <tr>\n",
       "      <th>300</th>\n",
       "      <td>2016</td>\n",
       "      <td>5.30</td>\n",
       "      <td>5.90</td>\n",
       "      <td>5464</td>\n",
       "      <td>0</td>\n",
       "      <td>0</td>\n",
       "      <td>0</td>\n",
       "      <td>0</td>\n",
       "      <td>0</td>\n",
       "      <td>1</td>\n",
       "    </tr>\n",
       "  </tbody>\n",
       "</table>\n",
       "<p>301 rows × 10 columns</p>\n",
       "</div>"
      ],
      "text/plain": [
       "     Year  Selling_Price  Present_Price  Kms_Driven  Seller_Type   \n",
       "0    2014           3.35           5.59       27000            0  \\\n",
       "1    2013           4.75           9.54       43000            0   \n",
       "2    2017           7.25           9.85        6900            0   \n",
       "3    2011           2.85           4.15        5200            0   \n",
       "4    2014           4.60           6.87       42450            0   \n",
       "..    ...            ...            ...         ...          ...   \n",
       "296  2016           9.50          11.60       33988            0   \n",
       "297  2015           4.00           5.90       60000            0   \n",
       "298  2009           3.35          11.00       87934            0   \n",
       "299  2017          11.50          12.50        9000            0   \n",
       "300  2016           5.30           5.90        5464            0   \n",
       "\n",
       "     Transmission  Owner  Fuel_Type_CNG  Fuel_Type_Diesel  Fuel_Type_Petrol  \n",
       "0               0      0              0                 0                 1  \n",
       "1               0      0              0                 1                 0  \n",
       "2               0      0              0                 0                 1  \n",
       "3               0      0              0                 0                 1  \n",
       "4               0      0              0                 1                 0  \n",
       "..            ...    ...            ...               ...               ...  \n",
       "296             0      0              0                 1                 0  \n",
       "297             0      0              0                 0                 1  \n",
       "298             0      0              0                 0                 1  \n",
       "299             0      0              0                 1                 0  \n",
       "300             0      0              0                 0                 1  \n",
       "\n",
       "[301 rows x 10 columns]"
      ]
     },
     "execution_count": 17,
     "metadata": {},
     "output_type": "execute_result"
    }
   ],
   "source": [
    "x = df.drop([\"Car_Name\",],axis = 1)\n",
    "x"
   ]
  },
  {
   "cell_type": "code",
   "execution_count": 18,
   "id": "d3c2345b",
   "metadata": {},
   "outputs": [
    {
     "name": "stdout",
     "output_type": "stream",
     "text": [
      "<class 'pandas.core.frame.DataFrame'>\n",
      "RangeIndex: 301 entries, 0 to 300\n",
      "Data columns (total 11 columns):\n",
      " #   Column            Non-Null Count  Dtype  \n",
      "---  ------            --------------  -----  \n",
      " 0   Car_Name          301 non-null    object \n",
      " 1   Year              301 non-null    int64  \n",
      " 2   Selling_Price     301 non-null    float64\n",
      " 3   Present_Price     301 non-null    float64\n",
      " 4   Kms_Driven        301 non-null    int64  \n",
      " 5   Seller_Type       301 non-null    int64  \n",
      " 6   Transmission      301 non-null    int64  \n",
      " 7   Owner             301 non-null    int64  \n",
      " 8   Fuel_Type_CNG     301 non-null    int32  \n",
      " 9   Fuel_Type_Diesel  301 non-null    int32  \n",
      " 10  Fuel_Type_Petrol  301 non-null    int32  \n",
      "dtypes: float64(2), int32(3), int64(5), object(1)\n",
      "memory usage: 22.5+ KB\n"
     ]
    }
   ],
   "source": [
    "df.info()"
   ]
  },
  {
   "cell_type": "code",
   "execution_count": 19,
   "id": "104a53c5",
   "metadata": {},
   "outputs": [
    {
     "data": {
      "text/html": [
       "<div>\n",
       "<style scoped>\n",
       "    .dataframe tbody tr th:only-of-type {\n",
       "        vertical-align: middle;\n",
       "    }\n",
       "\n",
       "    .dataframe tbody tr th {\n",
       "        vertical-align: top;\n",
       "    }\n",
       "\n",
       "    .dataframe thead th {\n",
       "        text-align: right;\n",
       "    }\n",
       "</style>\n",
       "<table border=\"1\" class=\"dataframe\">\n",
       "  <thead>\n",
       "    <tr style=\"text-align: right;\">\n",
       "      <th></th>\n",
       "      <th>Year</th>\n",
       "      <th>Selling_Price</th>\n",
       "      <th>Present_Price</th>\n",
       "      <th>Kms_Driven</th>\n",
       "      <th>Seller_Type</th>\n",
       "      <th>Transmission</th>\n",
       "      <th>Owner</th>\n",
       "      <th>Fuel_Type_CNG</th>\n",
       "      <th>Fuel_Type_Diesel</th>\n",
       "      <th>Fuel_Type_Petrol</th>\n",
       "    </tr>\n",
       "  </thead>\n",
       "  <tbody>\n",
       "    <tr>\n",
       "      <th>Year</th>\n",
       "      <td>1.000000</td>\n",
       "      <td>0.236141</td>\n",
       "      <td>-0.047584</td>\n",
       "      <td>-0.524342</td>\n",
       "      <td>-0.039896</td>\n",
       "      <td>-0.000394</td>\n",
       "      <td>-0.182104</td>\n",
       "      <td>-0.017790</td>\n",
       "      <td>0.064315</td>\n",
       "      <td>-0.059959</td>\n",
       "    </tr>\n",
       "    <tr>\n",
       "      <th>Selling_Price</th>\n",
       "      <td>0.236141</td>\n",
       "      <td>1.000000</td>\n",
       "      <td>0.878983</td>\n",
       "      <td>0.029187</td>\n",
       "      <td>-0.550724</td>\n",
       "      <td>0.367128</td>\n",
       "      <td>-0.088344</td>\n",
       "      <td>-0.025164</td>\n",
       "      <td>0.552339</td>\n",
       "      <td>-0.540571</td>\n",
       "    </tr>\n",
       "    <tr>\n",
       "      <th>Present_Price</th>\n",
       "      <td>-0.047584</td>\n",
       "      <td>0.878983</td>\n",
       "      <td>1.000000</td>\n",
       "      <td>0.203647</td>\n",
       "      <td>-0.512030</td>\n",
       "      <td>0.348715</td>\n",
       "      <td>0.008057</td>\n",
       "      <td>-0.011500</td>\n",
       "      <td>0.473306</td>\n",
       "      <td>-0.465244</td>\n",
       "    </tr>\n",
       "    <tr>\n",
       "      <th>Kms_Driven</th>\n",
       "      <td>-0.524342</td>\n",
       "      <td>0.029187</td>\n",
       "      <td>0.203647</td>\n",
       "      <td>1.000000</td>\n",
       "      <td>-0.101419</td>\n",
       "      <td>0.162510</td>\n",
       "      <td>0.089216</td>\n",
       "      <td>0.012223</td>\n",
       "      <td>0.172515</td>\n",
       "      <td>-0.172874</td>\n",
       "    </tr>\n",
       "    <tr>\n",
       "      <th>Seller_Type</th>\n",
       "      <td>-0.039896</td>\n",
       "      <td>-0.550724</td>\n",
       "      <td>-0.512030</td>\n",
       "      <td>-0.101419</td>\n",
       "      <td>1.000000</td>\n",
       "      <td>-0.063240</td>\n",
       "      <td>0.124269</td>\n",
       "      <td>-0.060300</td>\n",
       "      <td>-0.350467</td>\n",
       "      <td>0.358321</td>\n",
       "    </tr>\n",
       "    <tr>\n",
       "      <th>Transmission</th>\n",
       "      <td>-0.000394</td>\n",
       "      <td>0.367128</td>\n",
       "      <td>0.348715</td>\n",
       "      <td>0.162510</td>\n",
       "      <td>-0.063240</td>\n",
       "      <td>1.000000</td>\n",
       "      <td>0.050316</td>\n",
       "      <td>-0.032018</td>\n",
       "      <td>0.098643</td>\n",
       "      <td>-0.091013</td>\n",
       "    </tr>\n",
       "    <tr>\n",
       "      <th>Owner</th>\n",
       "      <td>-0.182104</td>\n",
       "      <td>-0.088344</td>\n",
       "      <td>0.008057</td>\n",
       "      <td>0.089216</td>\n",
       "      <td>0.124269</td>\n",
       "      <td>0.050316</td>\n",
       "      <td>1.000000</td>\n",
       "      <td>-0.014272</td>\n",
       "      <td>-0.053469</td>\n",
       "      <td>0.055687</td>\n",
       "    </tr>\n",
       "    <tr>\n",
       "      <th>Fuel_Type_CNG</th>\n",
       "      <td>-0.017790</td>\n",
       "      <td>-0.025164</td>\n",
       "      <td>-0.011500</td>\n",
       "      <td>0.012223</td>\n",
       "      <td>-0.060300</td>\n",
       "      <td>-0.032018</td>\n",
       "      <td>-0.014272</td>\n",
       "      <td>1.000000</td>\n",
       "      <td>-0.040808</td>\n",
       "      <td>-0.160577</td>\n",
       "    </tr>\n",
       "    <tr>\n",
       "      <th>Fuel_Type_Diesel</th>\n",
       "      <td>0.064315</td>\n",
       "      <td>0.552339</td>\n",
       "      <td>0.473306</td>\n",
       "      <td>0.172515</td>\n",
       "      <td>-0.350467</td>\n",
       "      <td>0.098643</td>\n",
       "      <td>-0.053469</td>\n",
       "      <td>-0.040808</td>\n",
       "      <td>1.000000</td>\n",
       "      <td>-0.979648</td>\n",
       "    </tr>\n",
       "    <tr>\n",
       "      <th>Fuel_Type_Petrol</th>\n",
       "      <td>-0.059959</td>\n",
       "      <td>-0.540571</td>\n",
       "      <td>-0.465244</td>\n",
       "      <td>-0.172874</td>\n",
       "      <td>0.358321</td>\n",
       "      <td>-0.091013</td>\n",
       "      <td>0.055687</td>\n",
       "      <td>-0.160577</td>\n",
       "      <td>-0.979648</td>\n",
       "      <td>1.000000</td>\n",
       "    </tr>\n",
       "  </tbody>\n",
       "</table>\n",
       "</div>"
      ],
      "text/plain": [
       "                      Year  Selling_Price  Present_Price  Kms_Driven   \n",
       "Year              1.000000       0.236141      -0.047584   -0.524342  \\\n",
       "Selling_Price     0.236141       1.000000       0.878983    0.029187   \n",
       "Present_Price    -0.047584       0.878983       1.000000    0.203647   \n",
       "Kms_Driven       -0.524342       0.029187       0.203647    1.000000   \n",
       "Seller_Type      -0.039896      -0.550724      -0.512030   -0.101419   \n",
       "Transmission     -0.000394       0.367128       0.348715    0.162510   \n",
       "Owner            -0.182104      -0.088344       0.008057    0.089216   \n",
       "Fuel_Type_CNG    -0.017790      -0.025164      -0.011500    0.012223   \n",
       "Fuel_Type_Diesel  0.064315       0.552339       0.473306    0.172515   \n",
       "Fuel_Type_Petrol -0.059959      -0.540571      -0.465244   -0.172874   \n",
       "\n",
       "                  Seller_Type  Transmission     Owner  Fuel_Type_CNG   \n",
       "Year                -0.039896     -0.000394 -0.182104      -0.017790  \\\n",
       "Selling_Price       -0.550724      0.367128 -0.088344      -0.025164   \n",
       "Present_Price       -0.512030      0.348715  0.008057      -0.011500   \n",
       "Kms_Driven          -0.101419      0.162510  0.089216       0.012223   \n",
       "Seller_Type          1.000000     -0.063240  0.124269      -0.060300   \n",
       "Transmission        -0.063240      1.000000  0.050316      -0.032018   \n",
       "Owner                0.124269      0.050316  1.000000      -0.014272   \n",
       "Fuel_Type_CNG       -0.060300     -0.032018 -0.014272       1.000000   \n",
       "Fuel_Type_Diesel    -0.350467      0.098643 -0.053469      -0.040808   \n",
       "Fuel_Type_Petrol     0.358321     -0.091013  0.055687      -0.160577   \n",
       "\n",
       "                  Fuel_Type_Diesel  Fuel_Type_Petrol  \n",
       "Year                      0.064315         -0.059959  \n",
       "Selling_Price             0.552339         -0.540571  \n",
       "Present_Price             0.473306         -0.465244  \n",
       "Kms_Driven                0.172515         -0.172874  \n",
       "Seller_Type              -0.350467          0.358321  \n",
       "Transmission              0.098643         -0.091013  \n",
       "Owner                    -0.053469          0.055687  \n",
       "Fuel_Type_CNG            -0.040808         -0.160577  \n",
       "Fuel_Type_Diesel          1.000000         -0.979648  \n",
       "Fuel_Type_Petrol         -0.979648          1.000000  "
      ]
     },
     "execution_count": 19,
     "metadata": {},
     "output_type": "execute_result"
    }
   ],
   "source": [
    "x.corr()"
   ]
  },
  {
   "cell_type": "code",
   "execution_count": 20,
   "id": "3d74d29d",
   "metadata": {},
   "outputs": [
    {
     "data": {
      "text/plain": [
       "<Axes: >"
      ]
     },
     "execution_count": 20,
     "metadata": {},
     "output_type": "execute_result"
    },
    {
     "data": {
      "image/png": "[encoded data removed]",
      "text/plain": [
       "<Figure size 1800x1200 with 2 Axes>"
      ]
     },
     "metadata": {},
     "output_type": "display_data"
    }
   ],
   "source": [
    "plt.figure(figsize = (18,12))\n",
    "sns.heatmap(x.corr(), annot = True)"
   ]
  },
  {
   "cell_type": "code",
   "execution_count": 21,
   "id": "d4595ddc",
   "metadata": {},
   "outputs": [
    {
     "data": {
      "text/plain": [
       "<Axes: >"
      ]
     },
     "execution_count": 21,
     "metadata": {},
     "output_type": "execute_result"
    },
    {
     "data": {
      "image/png": "[encoded data removed]",
      "text/plain": [
       "<Figure size 2000x200 with 2 Axes>"
      ]
     },
     "metadata": {},
     "output_type": "display_data"
    }
   ],
   "source": [
    "plt.figure(figsize = (20,2))\n",
    "sns.heatmap(x.corr().iloc[1:2], annot = True)"
   ]
  },
  {
   "cell_type": "code",
   "execution_count": 22,
   "id": "d30875c9",
   "metadata": {},
   "outputs": [
    {
     "data": {
      "text/html": [
       "<div>\n",
       "<style scoped>\n",
       "    .dataframe tbody tr th:only-of-type {\n",
       "        vertical-align: middle;\n",
       "    }\n",
       "\n",
       "    .dataframe tbody tr th {\n",
       "        vertical-align: top;\n",
       "    }\n",
       "\n",
       "    .dataframe thead th {\n",
       "        text-align: right;\n",
       "    }\n",
       "</style>\n",
       "<table border=\"1\" class=\"dataframe\">\n",
       "  <thead>\n",
       "    <tr style=\"text-align: right;\">\n",
       "      <th></th>\n",
       "      <th>Car_Name</th>\n",
       "      <th>Year</th>\n",
       "      <th>Selling_Price</th>\n",
       "      <th>Present_Price</th>\n",
       "      <th>Kms_Driven</th>\n",
       "      <th>Seller_Type</th>\n",
       "      <th>Transmission</th>\n",
       "      <th>Owner</th>\n",
       "      <th>Fuel_Type_CNG</th>\n",
       "      <th>Fuel_Type_Diesel</th>\n",
       "      <th>Fuel_Type_Petrol</th>\n",
       "    </tr>\n",
       "  </thead>\n",
       "  <tbody>\n",
       "    <tr>\n",
       "      <th>0</th>\n",
       "      <td>ritz</td>\n",
       "      <td>2014</td>\n",
       "      <td>3.35</td>\n",
       "      <td>5.59</td>\n",
       "      <td>27000</td>\n",
       "      <td>0</td>\n",
       "      <td>0</td>\n",
       "      <td>0</td>\n",
       "      <td>0</td>\n",
       "      <td>0</td>\n",
       "      <td>1</td>\n",
       "    </tr>\n",
       "    <tr>\n",
       "      <th>1</th>\n",
       "      <td>sx4</td>\n",
       "      <td>2013</td>\n",
       "      <td>4.75</td>\n",
       "      <td>9.54</td>\n",
       "      <td>43000</td>\n",
       "      <td>0</td>\n",
       "      <td>0</td>\n",
       "      <td>0</td>\n",
       "      <td>0</td>\n",
       "      <td>1</td>\n",
       "      <td>0</td>\n",
       "    </tr>\n",
       "    <tr>\n",
       "      <th>2</th>\n",
       "      <td>ciaz</td>\n",
       "      <td>2017</td>\n",
       "      <td>7.25</td>\n",
       "      <td>9.85</td>\n",
       "      <td>6900</td>\n",
       "      <td>0</td>\n",
       "      <td>0</td>\n",
       "      <td>0</td>\n",
       "      <td>0</td>\n",
       "      <td>0</td>\n",
       "      <td>1</td>\n",
       "    </tr>\n",
       "    <tr>\n",
       "      <th>3</th>\n",
       "      <td>wagon r</td>\n",
       "      <td>2011</td>\n",
       "      <td>2.85</td>\n",
       "      <td>4.15</td>\n",
       "      <td>5200</td>\n",
       "      <td>0</td>\n",
       "      <td>0</td>\n",
       "      <td>0</td>\n",
       "      <td>0</td>\n",
       "      <td>0</td>\n",
       "      <td>1</td>\n",
       "    </tr>\n",
       "    <tr>\n",
       "      <th>4</th>\n",
       "      <td>swift</td>\n",
       "      <td>2014</td>\n",
       "      <td>4.60</td>\n",
       "      <td>6.87</td>\n",
       "      <td>42450</td>\n",
       "      <td>0</td>\n",
       "      <td>0</td>\n",
       "      <td>0</td>\n",
       "      <td>0</td>\n",
       "      <td>1</td>\n",
       "      <td>0</td>\n",
       "    </tr>\n",
       "    <tr>\n",
       "      <th>...</th>\n",
       "      <td>...</td>\n",
       "      <td>...</td>\n",
       "      <td>...</td>\n",
       "      <td>...</td>\n",
       "      <td>...</td>\n",
       "      <td>...</td>\n",
       "      <td>...</td>\n",
       "      <td>...</td>\n",
       "      <td>...</td>\n",
       "      <td>...</td>\n",
       "      <td>...</td>\n",
       "    </tr>\n",
       "    <tr>\n",
       "      <th>296</th>\n",
       "      <td>city</td>\n",
       "      <td>2016</td>\n",
       "      <td>9.50</td>\n",
       "      <td>11.60</td>\n",
       "      <td>33988</td>\n",
       "      <td>0</td>\n",
       "      <td>0</td>\n",
       "      <td>0</td>\n",
       "      <td>0</td>\n",
       "      <td>1</td>\n",
       "      <td>0</td>\n",
       "    </tr>\n",
       "    <tr>\n",
       "      <th>297</th>\n",
       "      <td>brio</td>\n",
       "      <td>2015</td>\n",
       "      <td>4.00</td>\n",
       "      <td>5.90</td>\n",
       "      <td>60000</td>\n",
       "      <td>0</td>\n",
       "      <td>0</td>\n",
       "      <td>0</td>\n",
       "      <td>0</td>\n",
       "      <td>0</td>\n",
       "      <td>1</td>\n",
       "    </tr>\n",
       "    <tr>\n",
       "      <th>298</th>\n",
       "      <td>city</td>\n",
       "      <td>2009</td>\n",
       "      <td>3.35</td>\n",
       "      <td>11.00</td>\n",
       "      <td>87934</td>\n",
       "      <td>0</td>\n",
       "      <td>0</td>\n",
       "      <td>0</td>\n",
       "      <td>0</td>\n",
       "      <td>0</td>\n",
       "      <td>1</td>\n",
       "    </tr>\n",
       "    <tr>\n",
       "      <th>299</th>\n",
       "      <td>city</td>\n",
       "      <td>2017</td>\n",
       "      <td>11.50</td>\n",
       "      <td>12.50</td>\n",
       "      <td>9000</td>\n",
       "      <td>0</td>\n",
       "      <td>0</td>\n",
       "      <td>0</td>\n",
       "      <td>0</td>\n",
       "      <td>1</td>\n",
       "      <td>0</td>\n",
       "    </tr>\n",
       "    <tr>\n",
       "      <th>300</th>\n",
       "      <td>brio</td>\n",
       "      <td>2016</td>\n",
       "      <td>5.30</td>\n",
       "      <td>5.90</td>\n",
       "      <td>5464</td>\n",
       "      <td>0</td>\n",
       "      <td>0</td>\n",
       "      <td>0</td>\n",
       "      <td>0</td>\n",
       "      <td>0</td>\n",
       "      <td>1</td>\n",
       "    </tr>\n",
       "  </tbody>\n",
       "</table>\n",
       "<p>301 rows × 11 columns</p>\n",
       "</div>"
      ],
      "text/plain": [
       "    Car_Name  Year  Selling_Price  Present_Price  Kms_Driven  Seller_Type   \n",
       "0       ritz  2014           3.35           5.59       27000            0  \\\n",
       "1        sx4  2013           4.75           9.54       43000            0   \n",
       "2       ciaz  2017           7.25           9.85        6900            0   \n",
       "3    wagon r  2011           2.85           4.15        5200            0   \n",
       "4      swift  2014           4.60           6.87       42450            0   \n",
       "..       ...   ...            ...            ...         ...          ...   \n",
       "296     city  2016           9.50          11.60       33988            0   \n",
       "297     brio  2015           4.00           5.90       60000            0   \n",
       "298     city  2009           3.35          11.00       87934            0   \n",
       "299     city  2017          11.50          12.50        9000            0   \n",
       "300     brio  2016           5.30           5.90        5464            0   \n",
       "\n",
       "     Transmission  Owner  Fuel_Type_CNG  Fuel_Type_Diesel  Fuel_Type_Petrol  \n",
       "0               0      0              0                 0                 1  \n",
       "1               0      0              0                 1                 0  \n",
       "2               0      0              0                 0                 1  \n",
       "3               0      0              0                 0                 1  \n",
       "4               0      0              0                 1                 0  \n",
       "..            ...    ...            ...               ...               ...  \n",
       "296             0      0              0                 1                 0  \n",
       "297             0      0              0                 0                 1  \n",
       "298             0      0              0                 0                 1  \n",
       "299             0      0              0                 1                 0  \n",
       "300             0      0              0                 0                 1  \n",
       "\n",
       "[301 rows x 11 columns]"
      ]
     },
     "execution_count": 22,
     "metadata": {},
     "output_type": "execute_result"
    }
   ],
   "source": [
    "df"
   ]
  },
  {
   "cell_type": "code",
   "execution_count": 23,
   "id": "8ab931ff",
   "metadata": {},
   "outputs": [
    {
     "data": {
      "text/html": [
       "<div>\n",
       "<style scoped>\n",
       "    .dataframe tbody tr th:only-of-type {\n",
       "        vertical-align: middle;\n",
       "    }\n",
       "\n",
       "    .dataframe tbody tr th {\n",
       "        vertical-align: top;\n",
       "    }\n",
       "\n",
       "    .dataframe thead th {\n",
       "        text-align: right;\n",
       "    }\n",
       "</style>\n",
       "<table border=\"1\" class=\"dataframe\">\n",
       "  <thead>\n",
       "    <tr style=\"text-align: right;\">\n",
       "      <th></th>\n",
       "      <th>Year</th>\n",
       "      <th>Present_Price</th>\n",
       "      <th>Kms_Driven</th>\n",
       "      <th>Seller_Type</th>\n",
       "      <th>Transmission</th>\n",
       "      <th>Owner</th>\n",
       "      <th>Fuel_Type_CNG</th>\n",
       "      <th>Fuel_Type_Diesel</th>\n",
       "      <th>Fuel_Type_Petrol</th>\n",
       "    </tr>\n",
       "  </thead>\n",
       "  <tbody>\n",
       "    <tr>\n",
       "      <th>0</th>\n",
       "      <td>2014</td>\n",
       "      <td>5.59</td>\n",
       "      <td>27000</td>\n",
       "      <td>0</td>\n",
       "      <td>0</td>\n",
       "      <td>0</td>\n",
       "      <td>0</td>\n",
       "      <td>0</td>\n",
       "      <td>1</td>\n",
       "    </tr>\n",
       "    <tr>\n",
       "      <th>1</th>\n",
       "      <td>2013</td>\n",
       "      <td>9.54</td>\n",
       "      <td>43000</td>\n",
       "      <td>0</td>\n",
       "      <td>0</td>\n",
       "      <td>0</td>\n",
       "      <td>0</td>\n",
       "      <td>1</td>\n",
       "      <td>0</td>\n",
       "    </tr>\n",
       "    <tr>\n",
       "      <th>2</th>\n",
       "      <td>2017</td>\n",
       "      <td>9.85</td>\n",
       "      <td>6900</td>\n",
       "      <td>0</td>\n",
       "      <td>0</td>\n",
       "      <td>0</td>\n",
       "      <td>0</td>\n",
       "      <td>0</td>\n",
       "      <td>1</td>\n",
       "    </tr>\n",
       "    <tr>\n",
       "      <th>3</th>\n",
       "      <td>2011</td>\n",
       "      <td>4.15</td>\n",
       "      <td>5200</td>\n",
       "      <td>0</td>\n",
       "      <td>0</td>\n",
       "      <td>0</td>\n",
       "      <td>0</td>\n",
       "      <td>0</td>\n",
       "      <td>1</td>\n",
       "    </tr>\n",
       "    <tr>\n",
       "      <th>4</th>\n",
       "      <td>2014</td>\n",
       "      <td>6.87</td>\n",
       "      <td>42450</td>\n",
       "      <td>0</td>\n",
       "      <td>0</td>\n",
       "      <td>0</td>\n",
       "      <td>0</td>\n",
       "      <td>1</td>\n",
       "      <td>0</td>\n",
       "    </tr>\n",
       "    <tr>\n",
       "      <th>...</th>\n",
       "      <td>...</td>\n",
       "      <td>...</td>\n",
       "      <td>...</td>\n",
       "      <td>...</td>\n",
       "      <td>...</td>\n",
       "      <td>...</td>\n",
       "      <td>...</td>\n",
       "      <td>...</td>\n",
       "      <td>...</td>\n",
       "    </tr>\n",
       "    <tr>\n",
       "      <th>296</th>\n",
       "      <td>2016</td>\n",
       "      <td>11.60</td>\n",
       "      <td>33988</td>\n",
       "      <td>0</td>\n",
       "      <td>0</td>\n",
       "      <td>0</td>\n",
       "      <td>0</td>\n",
       "      <td>1</td>\n",
       "      <td>0</td>\n",
       "    </tr>\n",
       "    <tr>\n",
       "      <th>297</th>\n",
       "      <td>2015</td>\n",
       "      <td>5.90</td>\n",
       "      <td>60000</td>\n",
       "      <td>0</td>\n",
       "      <td>0</td>\n",
       "      <td>0</td>\n",
       "      <td>0</td>\n",
       "      <td>0</td>\n",
       "      <td>1</td>\n",
       "    </tr>\n",
       "    <tr>\n",
       "      <th>298</th>\n",
       "      <td>2009</td>\n",
       "      <td>11.00</td>\n",
       "      <td>87934</td>\n",
       "      <td>0</td>\n",
       "      <td>0</td>\n",
       "      <td>0</td>\n",
       "      <td>0</td>\n",
       "      <td>0</td>\n",
       "      <td>1</td>\n",
       "    </tr>\n",
       "    <tr>\n",
       "      <th>299</th>\n",
       "      <td>2017</td>\n",
       "      <td>12.50</td>\n",
       "      <td>9000</td>\n",
       "      <td>0</td>\n",
       "      <td>0</td>\n",
       "      <td>0</td>\n",
       "      <td>0</td>\n",
       "      <td>1</td>\n",
       "      <td>0</td>\n",
       "    </tr>\n",
       "    <tr>\n",
       "      <th>300</th>\n",
       "      <td>2016</td>\n",
       "      <td>5.90</td>\n",
       "      <td>5464</td>\n",
       "      <td>0</td>\n",
       "      <td>0</td>\n",
       "      <td>0</td>\n",
       "      <td>0</td>\n",
       "      <td>0</td>\n",
       "      <td>1</td>\n",
       "    </tr>\n",
       "  </tbody>\n",
       "</table>\n",
       "<p>301 rows × 9 columns</p>\n",
       "</div>"
      ],
      "text/plain": [
       "     Year  Present_Price  Kms_Driven  Seller_Type  Transmission  Owner   \n",
       "0    2014           5.59       27000            0             0      0  \\\n",
       "1    2013           9.54       43000            0             0      0   \n",
       "2    2017           9.85        6900            0             0      0   \n",
       "3    2011           4.15        5200            0             0      0   \n",
       "4    2014           6.87       42450            0             0      0   \n",
       "..    ...            ...         ...          ...           ...    ...   \n",
       "296  2016          11.60       33988            0             0      0   \n",
       "297  2015           5.90       60000            0             0      0   \n",
       "298  2009          11.00       87934            0             0      0   \n",
       "299  2017          12.50        9000            0             0      0   \n",
       "300  2016           5.90        5464            0             0      0   \n",
       "\n",
       "     Fuel_Type_CNG  Fuel_Type_Diesel  Fuel_Type_Petrol  \n",
       "0                0                 0                 1  \n",
       "1                0                 1                 0  \n",
       "2                0                 0                 1  \n",
       "3                0                 0                 1  \n",
       "4                0                 1                 0  \n",
       "..             ...               ...               ...  \n",
       "296              0                 1                 0  \n",
       "297              0                 0                 1  \n",
       "298              0                 0                 1  \n",
       "299              0                 1                 0  \n",
       "300              0                 0                 1  \n",
       "\n",
       "[301 rows x 9 columns]"
      ]
     },
     "execution_count": 23,
     "metadata": {},
     "output_type": "execute_result"
    }
   ],
   "source": [
    "x = df.drop(['Selling_Price', 'Car_Name'], axis = 1)\n",
    "y = df['Selling_Price']\n",
    "x"
   ]
  },
  {
   "cell_type": "markdown",
   "id": "201acc88",
   "metadata": {},
   "source": [
    "##### 5.2 VIF"
   ]
  },
  {
   "cell_type": "code",
   "execution_count": 24,
   "id": "f350f9f0",
   "metadata": {},
   "outputs": [
    {
     "data": {
      "text/plain": [
       "Index(['Year', 'Present_Price', 'Kms_Driven', 'Seller_Type', 'Transmission',\n",
       "       'Owner', 'Fuel_Type_CNG', 'Fuel_Type_Diesel', 'Fuel_Type_Petrol'],\n",
       "      dtype='object')"
      ]
     },
     "execution_count": 24,
     "metadata": {},
     "output_type": "execute_result"
    }
   ],
   "source": [
    "x.columns"
   ]
  },
  {
   "cell_type": "code",
   "execution_count": 25,
   "id": "eec1f447",
   "metadata": {},
   "outputs": [
    {
     "data": {
      "text/plain": [
       "2"
      ]
     },
     "execution_count": 25,
     "metadata": {},
     "output_type": "execute_result"
    }
   ],
   "source": [
    "array = x.values\n",
    "array.ndim"
   ]
  },
  {
   "cell_type": "code",
   "execution_count": 26,
   "id": "121f188e",
   "metadata": {},
   "outputs": [
    {
     "data": {
      "text/plain": [
       "1.4823467547289362"
      ]
     },
     "execution_count": 26,
     "metadata": {},
     "output_type": "execute_result"
    }
   ],
   "source": [
    "variance_inflation_factor(x.to_numpy(), 0)"
   ]
  },
  {
   "cell_type": "code",
   "execution_count": 27,
   "id": "44bc89e3",
   "metadata": {},
   "outputs": [
    {
     "data": {
      "text/plain": [
       "1.8369267328238557"
      ]
     },
     "execution_count": 27,
     "metadata": {},
     "output_type": "execute_result"
    }
   ],
   "source": [
    "variance_inflation_factor(x.to_numpy(), 1)"
   ]
  },
  {
   "cell_type": "code",
   "execution_count": 28,
   "id": "87184fd2",
   "metadata": {},
   "outputs": [
    {
     "data": {
      "text/plain": [
       "Year                     1.482347\n",
       "Present_Price            1.836927\n",
       "Kms_Driven               1.517916\n",
       "Seller_Type              1.449644\n",
       "Transmission             1.196263\n",
       "Owner                    1.056734\n",
       "Fuel_Type_CNG         4799.482845\n",
       "Fuel_Type_Diesel    144156.552200\n",
       "Fuel_Type_Petrol    573572.157278\n",
       "dtype: float64"
      ]
     },
     "execution_count": 28,
     "metadata": {},
     "output_type": "execute_result"
    }
   ],
   "source": [
    "vif_list = []\n",
    "for i in range(x.shape[1]):\n",
    "    vif = variance_inflation_factor(x.to_numpy(), i)\n",
    "    vif_list.append(vif)\n",
    "\n",
    "vif_values = pd.Series(vif_list, index = x.columns)\n",
    "vif_values"
   ]
  },
  {
   "cell_type": "code",
   "execution_count": 29,
   "id": "519f255b",
   "metadata": {},
   "outputs": [
    {
     "data": {
      "text/plain": [
       "<Axes: >"
      ]
     },
     "execution_count": 29,
     "metadata": {},
     "output_type": "execute_result"
    },
    {
     "data": {
      "image/png": "[encoded data removed]",
      "text/plain": [
       "<Figure size 500x300 with 1 Axes>"
      ]
     },
     "metadata": {},
     "output_type": "display_data"
    }
   ],
   "source": [
    "plt.figure(figsize = (5,3))\n",
    "vif_values.sort_values().plot(kind = 'bar')"
   ]
  },
  {
   "cell_type": "markdown",
   "id": "e8a512b4",
   "metadata": {},
   "source": [
    "### 6. Model Traning"
   ]
  },
  {
   "cell_type": "code",
   "execution_count": 30,
   "id": "ef778ac8",
   "metadata": {},
   "outputs": [],
   "source": [
    "x = df.drop(['Selling_Price', 'Car_Name'], axis = 1)\n",
    "y = df['Selling_Price']"
   ]
  },
  {
   "cell_type": "code",
   "execution_count": 31,
   "id": "eb248b25",
   "metadata": {},
   "outputs": [
    {
     "data": {
      "text/plain": [
       "(301, 9)"
      ]
     },
     "execution_count": 31,
     "metadata": {},
     "output_type": "execute_result"
    }
   ],
   "source": [
    "x.shape"
   ]
  },
  {
   "cell_type": "code",
   "execution_count": 32,
   "id": "4c8c4887",
   "metadata": {},
   "outputs": [
    {
     "data": {
      "text/plain": [
       "(301,)"
      ]
     },
     "execution_count": 32,
     "metadata": {},
     "output_type": "execute_result"
    }
   ],
   "source": [
    "y.shape"
   ]
  },
  {
   "cell_type": "code",
   "execution_count": 33,
   "id": "d05719fb",
   "metadata": {},
   "outputs": [
    {
     "data": {
      "text/plain": [
       "(301, 11)"
      ]
     },
     "execution_count": 33,
     "metadata": {},
     "output_type": "execute_result"
    }
   ],
   "source": [
    "df.shape"
   ]
  },
  {
   "cell_type": "code",
   "execution_count": 34,
   "id": "3cb702bb",
   "metadata": {},
   "outputs": [
    {
     "data": {
      "text/html": [
       "<div>\n",
       "<style scoped>\n",
       "    .dataframe tbody tr th:only-of-type {\n",
       "        vertical-align: middle;\n",
       "    }\n",
       "\n",
       "    .dataframe tbody tr th {\n",
       "        vertical-align: top;\n",
       "    }\n",
       "\n",
       "    .dataframe thead th {\n",
       "        text-align: right;\n",
       "    }\n",
       "</style>\n",
       "<table border=\"1\" class=\"dataframe\">\n",
       "  <thead>\n",
       "    <tr style=\"text-align: right;\">\n",
       "      <th></th>\n",
       "      <th>Year</th>\n",
       "      <th>Present_Price</th>\n",
       "      <th>Kms_Driven</th>\n",
       "      <th>Seller_Type</th>\n",
       "      <th>Transmission</th>\n",
       "      <th>Owner</th>\n",
       "      <th>Fuel_Type_CNG</th>\n",
       "      <th>Fuel_Type_Diesel</th>\n",
       "      <th>Fuel_Type_Petrol</th>\n",
       "    </tr>\n",
       "  </thead>\n",
       "  <tbody>\n",
       "    <tr>\n",
       "      <th>150</th>\n",
       "      <td>2011</td>\n",
       "      <td>0.826</td>\n",
       "      <td>6000</td>\n",
       "      <td>1</td>\n",
       "      <td>0</td>\n",
       "      <td>0</td>\n",
       "      <td>0</td>\n",
       "      <td>0</td>\n",
       "      <td>1</td>\n",
       "    </tr>\n",
       "    <tr>\n",
       "      <th>12</th>\n",
       "      <td>2015</td>\n",
       "      <td>9.940</td>\n",
       "      <td>15000</td>\n",
       "      <td>0</td>\n",
       "      <td>1</td>\n",
       "      <td>0</td>\n",
       "      <td>0</td>\n",
       "      <td>0</td>\n",
       "      <td>1</td>\n",
       "    </tr>\n",
       "    <tr>\n",
       "      <th>294</th>\n",
       "      <td>2014</td>\n",
       "      <td>6.800</td>\n",
       "      <td>33019</td>\n",
       "      <td>0</td>\n",
       "      <td>0</td>\n",
       "      <td>0</td>\n",
       "      <td>0</td>\n",
       "      <td>0</td>\n",
       "      <td>1</td>\n",
       "    </tr>\n",
       "    <tr>\n",
       "      <th>295</th>\n",
       "      <td>2015</td>\n",
       "      <td>13.090</td>\n",
       "      <td>60076</td>\n",
       "      <td>0</td>\n",
       "      <td>0</td>\n",
       "      <td>0</td>\n",
       "      <td>0</td>\n",
       "      <td>1</td>\n",
       "      <td>0</td>\n",
       "    </tr>\n",
       "    <tr>\n",
       "      <th>60</th>\n",
       "      <td>2013</td>\n",
       "      <td>18.610</td>\n",
       "      <td>40001</td>\n",
       "      <td>0</td>\n",
       "      <td>0</td>\n",
       "      <td>0</td>\n",
       "      <td>0</td>\n",
       "      <td>0</td>\n",
       "      <td>1</td>\n",
       "    </tr>\n",
       "    <tr>\n",
       "      <th>...</th>\n",
       "      <td>...</td>\n",
       "      <td>...</td>\n",
       "      <td>...</td>\n",
       "      <td>...</td>\n",
       "      <td>...</td>\n",
       "      <td>...</td>\n",
       "      <td>...</td>\n",
       "      <td>...</td>\n",
       "      <td>...</td>\n",
       "    </tr>\n",
       "    <tr>\n",
       "      <th>212</th>\n",
       "      <td>2016</td>\n",
       "      <td>13.600</td>\n",
       "      <td>22671</td>\n",
       "      <td>0</td>\n",
       "      <td>0</td>\n",
       "      <td>0</td>\n",
       "      <td>0</td>\n",
       "      <td>0</td>\n",
       "      <td>1</td>\n",
       "    </tr>\n",
       "    <tr>\n",
       "      <th>262</th>\n",
       "      <td>2015</td>\n",
       "      <td>5.800</td>\n",
       "      <td>40023</td>\n",
       "      <td>0</td>\n",
       "      <td>0</td>\n",
       "      <td>0</td>\n",
       "      <td>0</td>\n",
       "      <td>0</td>\n",
       "      <td>1</td>\n",
       "    </tr>\n",
       "    <tr>\n",
       "      <th>70</th>\n",
       "      <td>2014</td>\n",
       "      <td>6.760</td>\n",
       "      <td>71000</td>\n",
       "      <td>0</td>\n",
       "      <td>0</td>\n",
       "      <td>0</td>\n",
       "      <td>0</td>\n",
       "      <td>1</td>\n",
       "      <td>0</td>\n",
       "    </tr>\n",
       "    <tr>\n",
       "      <th>202</th>\n",
       "      <td>2015</td>\n",
       "      <td>5.700</td>\n",
       "      <td>28200</td>\n",
       "      <td>0</td>\n",
       "      <td>0</td>\n",
       "      <td>0</td>\n",
       "      <td>0</td>\n",
       "      <td>0</td>\n",
       "      <td>1</td>\n",
       "    </tr>\n",
       "    <tr>\n",
       "      <th>170</th>\n",
       "      <td>2012</td>\n",
       "      <td>0.830</td>\n",
       "      <td>5500</td>\n",
       "      <td>1</td>\n",
       "      <td>0</td>\n",
       "      <td>0</td>\n",
       "      <td>0</td>\n",
       "      <td>0</td>\n",
       "      <td>1</td>\n",
       "    </tr>\n",
       "  </tbody>\n",
       "</table>\n",
       "<p>61 rows × 9 columns</p>\n",
       "</div>"
      ],
      "text/plain": [
       "     Year  Present_Price  Kms_Driven  Seller_Type  Transmission  Owner   \n",
       "150  2011          0.826        6000            1             0      0  \\\n",
       "12   2015          9.940       15000            0             1      0   \n",
       "294  2014          6.800       33019            0             0      0   \n",
       "295  2015         13.090       60076            0             0      0   \n",
       "60   2013         18.610       40001            0             0      0   \n",
       "..    ...            ...         ...          ...           ...    ...   \n",
       "212  2016         13.600       22671            0             0      0   \n",
       "262  2015          5.800       40023            0             0      0   \n",
       "70   2014          6.760       71000            0             0      0   \n",
       "202  2015          5.700       28200            0             0      0   \n",
       "170  2012          0.830        5500            1             0      0   \n",
       "\n",
       "     Fuel_Type_CNG  Fuel_Type_Diesel  Fuel_Type_Petrol  \n",
       "150              0                 0                 1  \n",
       "12               0                 0                 1  \n",
       "294              0                 0                 1  \n",
       "295              0                 1                 0  \n",
       "60               0                 0                 1  \n",
       "..             ...               ...               ...  \n",
       "212              0                 0                 1  \n",
       "262              0                 0                 1  \n",
       "70               0                 1                 0  \n",
       "202              0                 0                 1  \n",
       "170              0                 0                 1  \n",
       "\n",
       "[61 rows x 9 columns]"
      ]
     },
     "execution_count": 34,
     "metadata": {},
     "output_type": "execute_result"
    }
   ],
   "source": [
    "x_train, x_test, y_train, y_test = train_test_split(x,y, test_size = 0.2,\n",
    "                                                   random_state = 11)\n",
    "x_test"
   ]
  },
  {
   "cell_type": "code",
   "execution_count": 35,
   "id": "88fab7be",
   "metadata": {},
   "outputs": [
    {
     "data": {
      "text/plain": [
       "150     0.50\n",
       "12      7.50\n",
       "294     3.75\n",
       "295     8.55\n",
       "60      6.95\n",
       "       ...  \n",
       "212    11.25\n",
       "262     4.00\n",
       "70      3.95\n",
       "202     4.40\n",
       "170     0.40\n",
       "Name: Selling_Price, Length: 61, dtype: float64"
      ]
     },
     "execution_count": 35,
     "metadata": {},
     "output_type": "execute_result"
    }
   ],
   "source": [
    "y_test"
   ]
  },
  {
   "cell_type": "markdown",
   "id": "ae5e44cd",
   "metadata": {},
   "source": [
    "#### Instantiating Linear Regression Model"
   ]
  },
  {
   "cell_type": "code",
   "execution_count": 36,
   "id": "d76327da",
   "metadata": {},
   "outputs": [
    {
     "data": {
      "text/html": [
       "<style>#sk-container-id-1 {color: black;background-color: white;}#sk-container-id-1 pre{padding: 0;}#sk-container-id-1 div.sk-toggleable {background-color: white;}#sk-container-id-1 label.sk-toggleable__label {cursor: pointer;display: block;width: 100%;margin-bottom: 0;padding: 0.3em;box-sizing: border-box;text-align: center;}#sk-container-id-1 label.sk-toggleable__label-arrow:before {content: \"▸\";float: left;margin-right: 0.25em;color: #696969;}#sk-container-id-1 label.sk-toggleable__label-arrow:hover:before {color: black;}#sk-container-id-1 div.sk-estimator:hover label.sk-toggleable__label-arrow:before {color: black;}#sk-container-id-1 div.sk-toggleable__content {max-height: 0;max-width: 0;overflow: hidden;text-align: left;background-color: #f0f8ff;}#sk-container-id-1 div.sk-toggleable__content pre {margin: 0.2em;color: black;border-radius: 0.25em;background-color: #f0f8ff;}#sk-container-id-1 input.sk-toggleable__control:checked~div.sk-toggleable__content {max-height: 200px;max-width: 100%;overflow: auto;}#sk-container-id-1 input.sk-toggleable__control:checked~label.sk-toggleable__label-arrow:before {content: \"▾\";}#sk-container-id-1 div.sk-estimator input.sk-toggleable__control:checked~label.sk-toggleable__label {background-color: #d4ebff;}#sk-container-id-1 div.sk-label input.sk-toggleable__control:checked~label.sk-toggleable__label {background-color: #d4ebff;}#sk-container-id-1 input.sk-hidden--visually {border: 0;clip: rect(1px 1px 1px 1px);clip: rect(1px, 1px, 1px, 1px);height: 1px;margin: -1px;overflow: hidden;padding: 0;position: absolute;width: 1px;}#sk-container-id-1 div.sk-estimator {font-family: monospace;background-color: #f0f8ff;border: 1px dotted black;border-radius: 0.25em;box-sizing: border-box;margin-bottom: 0.5em;}#sk-container-id-1 div.sk-estimator:hover {background-color: #d4ebff;}#sk-container-id-1 div.sk-parallel-item::after {content: \"\";width: 100%;border-bottom: 1px solid gray;flex-grow: 1;}#sk-container-id-1 div.sk-label:hover label.sk-toggleable__label {background-color: #d4ebff;}#sk-container-id-1 div.sk-serial::before {content: \"\";position: absolute;border-left: 1px solid gray;box-sizing: border-box;top: 0;bottom: 0;left: 50%;z-index: 0;}#sk-container-id-1 div.sk-serial {display: flex;flex-direction: column;align-items: center;background-color: white;padding-right: 0.2em;padding-left: 0.2em;position: relative;}#sk-container-id-1 div.sk-item {position: relative;z-index: 1;}#sk-container-id-1 div.sk-parallel {display: flex;align-items: stretch;justify-content: center;background-color: white;position: relative;}#sk-container-id-1 div.sk-item::before, #sk-container-id-1 div.sk-parallel-item::before {content: \"\";position: absolute;border-left: 1px solid gray;box-sizing: border-box;top: 0;bottom: 0;left: 50%;z-index: -1;}#sk-container-id-1 div.sk-parallel-item {display: flex;flex-direction: column;z-index: 1;position: relative;background-color: white;}#sk-container-id-1 div.sk-parallel-item:first-child::after {align-self: flex-end;width: 50%;}#sk-container-id-1 div.sk-parallel-item:last-child::after {align-self: flex-start;width: 50%;}#sk-container-id-1 div.sk-parallel-item:only-child::after {width: 0;}#sk-container-id-1 div.sk-dashed-wrapped {border: 1px dashed gray;margin: 0 0.4em 0.5em 0.4em;box-sizing: border-box;padding-bottom: 0.4em;background-color: white;}#sk-container-id-1 div.sk-label label {font-family: monospace;font-weight: bold;display: inline-block;line-height: 1.2em;}#sk-container-id-1 div.sk-label-container {text-align: center;}#sk-container-id-1 div.sk-container {/* jupyter's `normalize.less` sets `[hidden] { display: none; }` but bootstrap.min.css set `[hidden] { display: none !important; }` so we also need the `!important` here to be able to override the default hidden behavior on the sphinx rendered scikit-learn.org. See: https://github.com/scikit-learn/scikit-learn/issues/21755 */display: inline-block !important;position: relative;}#sk-container-id-1 div.sk-text-repr-fallback {display: none;}</style><div id=\"sk-container-id-1\" class=\"sk-top-container\"><div class=\"sk-text-repr-fallback\"><pre>LinearRegression()</pre><b>In a Jupyter environment, please rerun this cell to show the HTML representation or trust the notebook. <br />On GitHub, the HTML representation is unable to render, please try loading this page with nbviewer.org.</b></div><div class=\"sk-container\" hidden><div class=\"sk-item\"><div class=\"sk-estimator sk-toggleable\"><input class=\"sk-toggleable__control sk-hidden--visually\" id=\"sk-estimator-id-1\" type=\"checkbox\" checked><label for=\"sk-estimator-id-1\" class=\"sk-toggleable__label sk-toggleable__label-arrow\">LinearRegression</label><div class=\"sk-toggleable__content\"><pre>LinearRegression()</pre></div></div></div></div></div>"
      ],
      "text/plain": [
       "LinearRegression()"
      ]
     },
     "execution_count": 36,
     "metadata": {},
     "output_type": "execute_result"
    }
   ],
   "source": [
    "linear_reg = LinearRegression()\n",
    "linear_reg.fit(x_train, y_train)# Training of Lienar Regression Model\n",
    "# Gradient Descent Algorithm"
   ]
  },
  {
   "cell_type": "code",
   "execution_count": 37,
   "id": "c4fa4c7c",
   "metadata": {},
   "outputs": [
    {
     "data": {
      "text/plain": [
       "array([ 0.43,  0.54, -0.  , -0.3 ,  0.53, -0.95, -0.81,  1.21, -0.41])"
      ]
     },
     "execution_count": 37,
     "metadata": {},
     "output_type": "execute_result"
    }
   ],
   "source": [
    "np.around(linear_reg.coef_,2)"
   ]
  },
  {
   "cell_type": "code",
   "execution_count": 38,
   "id": "62a5b6b0",
   "metadata": {},
   "outputs": [
    {
     "data": {
      "text/plain": [
       "-861.7980037971929"
      ]
     },
     "execution_count": 38,
     "metadata": {},
     "output_type": "execute_result"
    }
   ],
   "source": [
    "linear_reg.intercept_"
   ]
  },
  {
   "cell_type": "markdown",
   "id": "a8e20a1c",
   "metadata": {},
   "source": [
    "### 7. Model Evaluation"
   ]
  },
  {
   "cell_type": "code",
   "execution_count": 39,
   "id": "54d39f43",
   "metadata": {},
   "outputs": [
    {
     "data": {
      "text/html": [
       "<div>\n",
       "<style scoped>\n",
       "    .dataframe tbody tr th:only-of-type {\n",
       "        vertical-align: middle;\n",
       "    }\n",
       "\n",
       "    .dataframe tbody tr th {\n",
       "        vertical-align: top;\n",
       "    }\n",
       "\n",
       "    .dataframe thead th {\n",
       "        text-align: right;\n",
       "    }\n",
       "</style>\n",
       "<table border=\"1\" class=\"dataframe\">\n",
       "  <thead>\n",
       "    <tr style=\"text-align: right;\">\n",
       "      <th></th>\n",
       "      <th>Year</th>\n",
       "      <th>Present_Price</th>\n",
       "      <th>Kms_Driven</th>\n",
       "      <th>Seller_Type</th>\n",
       "      <th>Transmission</th>\n",
       "      <th>Owner</th>\n",
       "      <th>Fuel_Type_CNG</th>\n",
       "      <th>Fuel_Type_Diesel</th>\n",
       "      <th>Fuel_Type_Petrol</th>\n",
       "    </tr>\n",
       "  </thead>\n",
       "  <tbody>\n",
       "    <tr>\n",
       "      <th>150</th>\n",
       "      <td>2011</td>\n",
       "      <td>0.826</td>\n",
       "      <td>6000</td>\n",
       "      <td>1</td>\n",
       "      <td>0</td>\n",
       "      <td>0</td>\n",
       "      <td>0</td>\n",
       "      <td>0</td>\n",
       "      <td>1</td>\n",
       "    </tr>\n",
       "    <tr>\n",
       "      <th>12</th>\n",
       "      <td>2015</td>\n",
       "      <td>9.940</td>\n",
       "      <td>15000</td>\n",
       "      <td>0</td>\n",
       "      <td>1</td>\n",
       "      <td>0</td>\n",
       "      <td>0</td>\n",
       "      <td>0</td>\n",
       "      <td>1</td>\n",
       "    </tr>\n",
       "    <tr>\n",
       "      <th>294</th>\n",
       "      <td>2014</td>\n",
       "      <td>6.800</td>\n",
       "      <td>33019</td>\n",
       "      <td>0</td>\n",
       "      <td>0</td>\n",
       "      <td>0</td>\n",
       "      <td>0</td>\n",
       "      <td>0</td>\n",
       "      <td>1</td>\n",
       "    </tr>\n",
       "    <tr>\n",
       "      <th>295</th>\n",
       "      <td>2015</td>\n",
       "      <td>13.090</td>\n",
       "      <td>60076</td>\n",
       "      <td>0</td>\n",
       "      <td>0</td>\n",
       "      <td>0</td>\n",
       "      <td>0</td>\n",
       "      <td>1</td>\n",
       "      <td>0</td>\n",
       "    </tr>\n",
       "    <tr>\n",
       "      <th>60</th>\n",
       "      <td>2013</td>\n",
       "      <td>18.610</td>\n",
       "      <td>40001</td>\n",
       "      <td>0</td>\n",
       "      <td>0</td>\n",
       "      <td>0</td>\n",
       "      <td>0</td>\n",
       "      <td>0</td>\n",
       "      <td>1</td>\n",
       "    </tr>\n",
       "    <tr>\n",
       "      <th>...</th>\n",
       "      <td>...</td>\n",
       "      <td>...</td>\n",
       "      <td>...</td>\n",
       "      <td>...</td>\n",
       "      <td>...</td>\n",
       "      <td>...</td>\n",
       "      <td>...</td>\n",
       "      <td>...</td>\n",
       "      <td>...</td>\n",
       "    </tr>\n",
       "    <tr>\n",
       "      <th>212</th>\n",
       "      <td>2016</td>\n",
       "      <td>13.600</td>\n",
       "      <td>22671</td>\n",
       "      <td>0</td>\n",
       "      <td>0</td>\n",
       "      <td>0</td>\n",
       "      <td>0</td>\n",
       "      <td>0</td>\n",
       "      <td>1</td>\n",
       "    </tr>\n",
       "    <tr>\n",
       "      <th>262</th>\n",
       "      <td>2015</td>\n",
       "      <td>5.800</td>\n",
       "      <td>40023</td>\n",
       "      <td>0</td>\n",
       "      <td>0</td>\n",
       "      <td>0</td>\n",
       "      <td>0</td>\n",
       "      <td>0</td>\n",
       "      <td>1</td>\n",
       "    </tr>\n",
       "    <tr>\n",
       "      <th>70</th>\n",
       "      <td>2014</td>\n",
       "      <td>6.760</td>\n",
       "      <td>71000</td>\n",
       "      <td>0</td>\n",
       "      <td>0</td>\n",
       "      <td>0</td>\n",
       "      <td>0</td>\n",
       "      <td>1</td>\n",
       "      <td>0</td>\n",
       "    </tr>\n",
       "    <tr>\n",
       "      <th>202</th>\n",
       "      <td>2015</td>\n",
       "      <td>5.700</td>\n",
       "      <td>28200</td>\n",
       "      <td>0</td>\n",
       "      <td>0</td>\n",
       "      <td>0</td>\n",
       "      <td>0</td>\n",
       "      <td>0</td>\n",
       "      <td>1</td>\n",
       "    </tr>\n",
       "    <tr>\n",
       "      <th>170</th>\n",
       "      <td>2012</td>\n",
       "      <td>0.830</td>\n",
       "      <td>5500</td>\n",
       "      <td>1</td>\n",
       "      <td>0</td>\n",
       "      <td>0</td>\n",
       "      <td>0</td>\n",
       "      <td>0</td>\n",
       "      <td>1</td>\n",
       "    </tr>\n",
       "  </tbody>\n",
       "</table>\n",
       "<p>61 rows × 9 columns</p>\n",
       "</div>"
      ],
      "text/plain": [
       "     Year  Present_Price  Kms_Driven  Seller_Type  Transmission  Owner   \n",
       "150  2011          0.826        6000            1             0      0  \\\n",
       "12   2015          9.940       15000            0             1      0   \n",
       "294  2014          6.800       33019            0             0      0   \n",
       "295  2015         13.090       60076            0             0      0   \n",
       "60   2013         18.610       40001            0             0      0   \n",
       "..    ...            ...         ...          ...           ...    ...   \n",
       "212  2016         13.600       22671            0             0      0   \n",
       "262  2015          5.800       40023            0             0      0   \n",
       "70   2014          6.760       71000            0             0      0   \n",
       "202  2015          5.700       28200            0             0      0   \n",
       "170  2012          0.830        5500            1             0      0   \n",
       "\n",
       "     Fuel_Type_CNG  Fuel_Type_Diesel  Fuel_Type_Petrol  \n",
       "150              0                 0                 1  \n",
       "12               0                 0                 1  \n",
       "294              0                 0                 1  \n",
       "295              0                 1                 0  \n",
       "60               0                 0                 1  \n",
       "..             ...               ...               ...  \n",
       "212              0                 0                 1  \n",
       "262              0                 0                 1  \n",
       "70               0                 1                 0  \n",
       "202              0                 0                 1  \n",
       "170              0                 0                 1  \n",
       "\n",
       "[61 rows x 9 columns]"
      ]
     },
     "execution_count": 39,
     "metadata": {},
     "output_type": "execute_result"
    }
   ],
   "source": [
    "x_test"
   ]
  },
  {
   "cell_type": "code",
   "execution_count": 40,
   "id": "42d856ed",
   "metadata": {},
   "outputs": [
    {
     "data": {
      "text/plain": [
       "16     7.25\n",
       "233    3.90\n",
       "300    5.30\n",
       "2      7.25\n",
       "137    0.65\n",
       "Name: Selling_Price, dtype: float64"
      ]
     },
     "execution_count": 40,
     "metadata": {},
     "output_type": "execute_result"
    }
   ],
   "source": [
    "y_test[20:25]"
   ]
  },
  {
   "cell_type": "code",
   "execution_count": 41,
   "id": "14bb9a1d",
   "metadata": {},
   "outputs": [
    {
     "data": {
      "text/plain": [
       "array([8.33138202, 4.69086178, 4.68000545, 7.22218186, 0.30377231])"
      ]
     },
     "execution_count": 41,
     "metadata": {},
     "output_type": "execute_result"
    }
   ],
   "source": [
    "y_pred = linear_reg.predict(x_test)\n",
    "y_pred[20:25]"
   ]
  },
  {
   "cell_type": "markdown",
   "id": "0d0f90ca",
   "metadata": {},
   "source": [
    "##### residual of testing data"
   ]
  },
  {
   "cell_type": "code",
   "execution_count": 42,
   "id": "20aff439",
   "metadata": {},
   "outputs": [
    {
     "data": {
      "text/plain": [
       "257    0.273693\n",
       "201    0.234259\n",
       "204   -0.608809\n",
       "126   -1.271843\n",
       "193    0.958274\n",
       "Name: Selling_Price, dtype: float64"
      ]
     },
     "execution_count": 42,
     "metadata": {},
     "output_type": "execute_result"
    }
   ],
   "source": [
    "residual = y_test - y_pred\n",
    "residual[10:15]"
   ]
  },
  {
   "cell_type": "markdown",
   "id": "7862f9fe",
   "metadata": {},
   "source": [
    "#### Testing data Evaluation"
   ]
  },
  {
   "cell_type": "code",
   "execution_count": 43,
   "id": "108ebb5a",
   "metadata": {},
   "outputs": [
    {
     "name": "stdout",
     "output_type": "stream",
     "text": [
      "mean_squared_error      : 5.3426661557629105\n",
      "Root Mean Squared Error : 2.311420808888531\n",
      "mean_absolute_error     : 1.235860664061734\n",
      "R-Squared Value         : 0.8429605348613087\n",
      "Adjusted R-Squared Value: 0.8152476880721279\n"
     ]
    }
   ],
   "source": [
    "y_pred_test = linear_reg.predict(x_test)\n",
    "\n",
    "mse = mean_squared_error(y_test, y_pred_test)\n",
    "print('mean_squared_error      :', mse)\n",
    "\n",
    "rmse = np.sqrt(mse)\n",
    "print(\"Root Mean Squared Error :\" ,rmse)\n",
    "\n",
    "mae = mean_absolute_error(y_test, y_pred_test)\n",
    "print('mean_absolute_error     :', mae)\n",
    "\n",
    "r_value = r2_score(y_test, y_pred_test)\n",
    "print(\"R-Squared Value         :\",r_value)\n",
    "\n",
    "n = x_test.shape[0]\n",
    "k = x_test.shape[1]\n",
    "\n",
    "adj_r2 = 1 - ((1 - r_value) * (n-1))/(n-k-1)\n",
    "print(\"Adjusted R-Squared Value:\",adj_r2)"
   ]
  },
  {
   "cell_type": "markdown",
   "id": "144249ef",
   "metadata": {},
   "source": [
    "#### Training Data evaluation"
   ]
  },
  {
   "cell_type": "code",
   "execution_count": 44,
   "id": "5e04cf8d",
   "metadata": {},
   "outputs": [
    {
     "name": "stdout",
     "output_type": "stream",
     "text": [
      "mean_squared_error      : 2.994058579662328\n",
      "Root Mean Squared Error : 1.7303348172138038\n",
      "mean_absolute_error     : 1.1941021434235144\n",
      "R-Squared Value         : 0.8729748075952637\n",
      "Adjusted R-Squared Value: 0.8680042565881219\n"
     ]
    }
   ],
   "source": [
    "y_pred_train = linear_reg.predict(x_train)\n",
    "\n",
    "mse = mean_squared_error(y_train, y_pred_train)\n",
    "print('mean_squared_error      :', mse)\n",
    "\n",
    "rmse = np.sqrt(mse)\n",
    "print(\"Root Mean Squared Error :\" ,rmse)\n",
    "\n",
    "mae = mean_absolute_error(y_train, y_pred_train)\n",
    "print('mean_absolute_error     :', mae)\n",
    "\n",
    "r_value = r2_score(y_train, y_pred_train)\n",
    "print(\"R-Squared Value         :\",r_value)\n",
    "\n",
    "n = x_train.shape[0]\n",
    "k = x_train.shape[1]\n",
    "\n",
    "adj_r2 = 1 - ((1 - r_value) * (n-1))/(n-k-1)\n",
    "print(\"Adjusted R-Squared Value:\",adj_r2)"
   ]
  },
  {
   "cell_type": "markdown",
   "id": "8cdc5406",
   "metadata": {},
   "source": [
    "### Normality of Residual"
   ]
  },
  {
   "cell_type": "raw",
   "id": "0bd209a6",
   "metadata": {},
   "source": [
    "Error or Residual\n",
    " \n",
    "Residual = Ya - Yp\n",
    "\n",
    "Residual will be positive if datapoint is above the regression line\n",
    "Residual will be negative if datapoint is below the regression line\n",
    "Residual will be zero if datapoint is on the regression line\n",
    "\n",
    "How to Check Normality:\n",
    "    1. Visualization Tools:(Matplotlib, Seaborn)\n",
    "        1.1  kdeplot\n",
    "        1.2  histplot\n",
    "        1.3  distplot\n",
    "        \n",
    "    2. QQ-Plot:\n",
    "        Powerful technique to check normality\n",
    "        Quantile-Quantile Plot\n",
    "        \n",
    "    3. Hypothesis Testing:\n",
    "        1. shapiro test\n",
    "        2. kstest test\n",
    "        3. normal test\n",
    "        \n",
    "    4. Skewness:\n",
    "        Positive Skewnees\n",
    "        Negative Skewness\n",
    "        Symmetric Data"
   ]
  },
  {
   "cell_type": "markdown",
   "id": "4384d46a",
   "metadata": {},
   "source": [
    "#### residual of train data"
   ]
  },
  {
   "cell_type": "code",
   "execution_count": 45,
   "id": "3561ce60",
   "metadata": {},
   "outputs": [
    {
     "data": {
      "text/plain": [
       "136    0.65\n",
       "26     4.15\n",
       "95     5.85\n",
       "206    5.75\n",
       "273    2.25\n",
       "Name: Selling_Price, dtype: float64"
      ]
     },
     "execution_count": 45,
     "metadata": {},
     "output_type": "execute_result"
    }
   ],
   "source": [
    "y_train[10:15]"
   ]
  },
  {
   "cell_type": "code",
   "execution_count": 46,
   "id": "08c21630",
   "metadata": {},
   "outputs": [
    {
     "data": {
      "text/plain": [
       "array([0.91982039, 3.15283281, 9.48626719, 5.73680224, 2.71488307])"
      ]
     },
     "execution_count": 46,
     "metadata": {},
     "output_type": "execute_result"
    }
   ],
   "source": [
    "y_pred_train[10:15]"
   ]
  },
  {
   "cell_type": "code",
   "execution_count": 47,
   "id": "f354937e",
   "metadata": {},
   "outputs": [
    {
     "data": {
      "text/plain": [
       "136   -0.269820\n",
       "26     0.997167\n",
       "95    -3.636267\n",
       "206    0.013198\n",
       "273   -0.464883\n",
       "Name: Selling_Price, dtype: float64"
      ]
     },
     "execution_count": 47,
     "metadata": {},
     "output_type": "execute_result"
    }
   ],
   "source": [
    "residual_train = y_train - y_pred_train\n",
    "residual_train[10:15]"
   ]
  },
  {
   "cell_type": "markdown",
   "id": "d2b4c755",
   "metadata": {},
   "source": [
    "### visualization Tools"
   ]
  },
  {
   "cell_type": "markdown",
   "id": "76f82e18",
   "metadata": {},
   "source": [
    "#### 1.1 kdeplot"
   ]
  },
  {
   "cell_type": "code",
   "execution_count": 48,
   "id": "ac1dd766",
   "metadata": {},
   "outputs": [
    {
     "data": {
      "text/plain": [
       "<Axes: xlabel='Selling_Price', ylabel='Density'>"
      ]
     },
     "execution_count": 48,
     "metadata": {},
     "output_type": "execute_result"
    },
    {
     "data": {
      "image/png": "[encoded data removed]",
      "text/plain": [
       "<Figure size 640x480 with 1 Axes>"
      ]
     },
     "metadata": {},
     "output_type": "display_data"
    }
   ],
   "source": [
    "sns.kdeplot(residual_train)"
   ]
  },
  {
   "cell_type": "markdown",
   "id": "992f375f",
   "metadata": {},
   "source": [
    "#### 1.2  histplot"
   ]
  },
  {
   "cell_type": "code",
   "execution_count": 49,
   "id": "fc99fe27",
   "metadata": {},
   "outputs": [
    {
     "data": {
      "text/plain": [
       "<Axes: xlabel='Selling_Price', ylabel='Count'>"
      ]
     },
     "execution_count": 49,
     "metadata": {},
     "output_type": "execute_result"
    },
    {
     "data": {
      "image/png": "[encoded data removed]",
      "text/plain": [
       "<Figure size 640x480 with 1 Axes>"
      ]
     },
     "metadata": {},
     "output_type": "display_data"
    }
   ],
   "source": [
    "sns.histplot(residual_train)"
   ]
  },
  {
   "cell_type": "markdown",
   "id": "5b224928",
   "metadata": {},
   "source": [
    "#### 1.3  distplot"
   ]
  },
  {
   "cell_type": "code",
   "execution_count": 50,
   "id": "51b4b102",
   "metadata": {},
   "outputs": [
    {
     "data": {
      "text/plain": [
       "<Axes: xlabel='Selling_Price', ylabel='Density'>"
      ]
     },
     "execution_count": 50,
     "metadata": {},
     "output_type": "execute_result"
    },
    {
     "data": {
      "image/png": "[encoded data removed]",
      "text/plain": [
       "<Figure size 640x480 with 1 Axes>"
      ]
     },
     "metadata": {},
     "output_type": "display_data"
    }
   ],
   "source": [
    "sns.distplot(residual_train)"
   ]
  },
  {
   "cell_type": "markdown",
   "id": "d883346f",
   "metadata": {},
   "source": [
    "### 2. QQ-Plot"
   ]
  },
  {
   "cell_type": "code",
   "execution_count": 51,
   "id": "13edd1e2",
   "metadata": {},
   "outputs": [
    {
     "data": {
      "image/png": "[encoded data removed]",
      "text/plain": [
       "<Figure size 640x480 with 1 Axes>"
      ]
     },
     "execution_count": 51,
     "metadata": {},
     "output_type": "execute_result"
    },
    {
     "data": {
      "image/png": "[encoded data removed]",
      "text/plain": [
       "<Figure size 640x480 with 1 Axes>"
      ]
     },
     "metadata": {},
     "output_type": "display_data"
    }
   ],
   "source": [
    "sm.qqplot(residual_train,line=\"45\",fit=True)"
   ]
  },
  {
   "cell_type": "markdown",
   "id": "d5a28b2b",
   "metadata": {},
   "source": [
    "#### 3. Hypothesis Testing:"
   ]
  },
  {
   "cell_type": "markdown",
   "id": "10beec69",
   "metadata": {},
   "source": [
    "#### 1. shapiro test"
   ]
  },
  {
   "cell_type": "code",
   "execution_count": 52,
   "id": "3586c9e3",
   "metadata": {},
   "outputs": [
    {
     "name": "stdout",
     "output_type": "stream",
     "text": [
      "p_val: 1.4649554902490536e-09\n",
      "Alternate hypothesis is True\n",
      "data not normally distributed\n"
     ]
    }
   ],
   "source": [
    "_,p_val=shapiro(residual_train)\n",
    "print(\"p_val:\" ,p_val)\n",
    "if p_val >0.05:\n",
    "    print(\"NULL hypothesis is True\")\n",
    "    print(\"data normally distributed\")\n",
    "else:\n",
    "    print(\"Alternate hypothesis is True\")\n",
    "    print(\"data not normally distributed\")"
   ]
  },
  {
   "cell_type": "markdown",
   "id": "3fc90061",
   "metadata": {},
   "source": [
    "#### 2. kstest test"
   ]
  },
  {
   "cell_type": "code",
   "execution_count": 53,
   "id": "c5348135",
   "metadata": {},
   "outputs": [
    {
     "name": "stdout",
     "output_type": "stream",
     "text": [
      "p_val: 0.027471118756272506\n",
      "Alternate hypothesis is True\n",
      "data not normally distributed\n"
     ]
    }
   ],
   "source": [
    "_,p_val=kstest(residual_train, \"norm\")\n",
    "print(\"p_val:\" ,p_val)\n",
    "if p_val >0.05:\n",
    "    print(\"NULL hypothesis is True\")\n",
    "    print(\"data normally distributed\")\n",
    "else:\n",
    "    print(\"Alternate hypothesis is True\")\n",
    "    print(\"data not normally distributed\")"
   ]
  },
  {
   "cell_type": "markdown",
   "id": "d9e227dd",
   "metadata": {},
   "source": [
    "#### 3. normal test"
   ]
  },
  {
   "cell_type": "code",
   "execution_count": 54,
   "id": "d555067c",
   "metadata": {},
   "outputs": [
    {
     "name": "stdout",
     "output_type": "stream",
     "text": [
      "p_val: 5.85831722733678e-11\n",
      "Alternate hypothesis is True\n",
      "data not normally distributed\n"
     ]
    }
   ],
   "source": [
    "_,p_val=normaltest(residual_train)\n",
    "print(\"p_val:\" ,p_val)\n",
    "if p_val >0.05:\n",
    "    print(\"NULL hypothesis is True\")\n",
    "    print(\"data normally distributed\")\n",
    "else:\n",
    "    print(\"Alternate hypothesis is True\")\n",
    "    print(\"data not normally distributed\")"
   ]
  },
  {
   "cell_type": "markdown",
   "id": "f94f5ce4",
   "metadata": {},
   "source": [
    "### 4. Skewness"
   ]
  },
  {
   "cell_type": "markdown",
   "id": "10f0e879",
   "metadata": {},
   "source": [
    "#### 4.1 Positive Skewnees"
   ]
  },
  {
   "cell_type": "code",
   "execution_count": 55,
   "id": "ff7b85a4",
   "metadata": {},
   "outputs": [
    {
     "name": "stdout",
     "output_type": "stream",
     "text": [
      "mean:  -2.969846590872294e-14\n",
      "median:  -0.08591494850776371\n",
      "skew:  0.605512214823487\n",
      "positive skewed data\n",
      "skew: 0.605512214823487\n"
     ]
    }
   ],
   "source": [
    "mean=residual_train.mean()\n",
    "median=residual_train.median()\n",
    "skew=residual_train.skew()\n",
    "print(\"mean: \",mean)\n",
    "print(\"median: \",median)\n",
    "print(\"skew: \",skew)\n",
    "\n",
    "if mean>median:\n",
    "    print(\"positive skewed data\")\n",
    "    print(\"skew:\",skew)\n",
    "elif mean<median:\n",
    "    print(\"Negativly skewed data\")\n",
    "    print(\"skew:\",skew)\n",
    "else:\n",
    "    print(\"Symmetric skewed data\")\n",
    "    print(\"skew:\",skew)"
   ]
  },
  {
   "cell_type": "code",
   "execution_count": 56,
   "id": "0d3388eb",
   "metadata": {},
   "outputs": [
    {
     "data": {
      "text/plain": [
       "<Axes: xlabel='Selling_Price', ylabel='Density'>"
      ]
     },
     "execution_count": 56,
     "metadata": {},
     "output_type": "execute_result"
    },
    {
     "data": {
      "image/png": "[encoded data removed]",
      "text/plain": [
       "<Figure size 640x480 with 1 Axes>"
      ]
     },
     "metadata": {},
     "output_type": "display_data"
    }
   ],
   "source": [
    "sns.kdeplot(residual_train)"
   ]
  },
  {
   "cell_type": "markdown",
   "id": "063b6110",
   "metadata": {},
   "source": [
    "### Single Row testing"
   ]
  },
  {
   "cell_type": "code",
   "execution_count": 57,
   "id": "c0936d72",
   "metadata": {},
   "outputs": [
    {
     "data": {
      "text/html": [
       "<div>\n",
       "<style scoped>\n",
       "    .dataframe tbody tr th:only-of-type {\n",
       "        vertical-align: middle;\n",
       "    }\n",
       "\n",
       "    .dataframe tbody tr th {\n",
       "        vertical-align: top;\n",
       "    }\n",
       "\n",
       "    .dataframe thead th {\n",
       "        text-align: right;\n",
       "    }\n",
       "</style>\n",
       "<table border=\"1\" class=\"dataframe\">\n",
       "  <thead>\n",
       "    <tr style=\"text-align: right;\">\n",
       "      <th></th>\n",
       "      <th>Year</th>\n",
       "      <th>Present_Price</th>\n",
       "      <th>Kms_Driven</th>\n",
       "      <th>Seller_Type</th>\n",
       "      <th>Transmission</th>\n",
       "      <th>Owner</th>\n",
       "      <th>Fuel_Type_CNG</th>\n",
       "      <th>Fuel_Type_Diesel</th>\n",
       "      <th>Fuel_Type_Petrol</th>\n",
       "    </tr>\n",
       "  </thead>\n",
       "  <tbody>\n",
       "    <tr>\n",
       "      <th>257</th>\n",
       "      <td>2015</td>\n",
       "      <td>13.6</td>\n",
       "      <td>40324</td>\n",
       "      <td>0</td>\n",
       "      <td>0</td>\n",
       "      <td>0</td>\n",
       "      <td>0</td>\n",
       "      <td>0</td>\n",
       "      <td>1</td>\n",
       "    </tr>\n",
       "  </tbody>\n",
       "</table>\n",
       "</div>"
      ],
      "text/plain": [
       "     Year  Present_Price  Kms_Driven  Seller_Type  Transmission  Owner   \n",
       "257  2015           13.6       40324            0             0      0  \\\n",
       "\n",
       "     Fuel_Type_CNG  Fuel_Type_Diesel  Fuel_Type_Petrol  \n",
       "257              0                 0                 1  "
      ]
     },
     "execution_count": 57,
     "metadata": {},
     "output_type": "execute_result"
    }
   ],
   "source": [
    "x_test[10:11]"
   ]
  },
  {
   "cell_type": "code",
   "execution_count": 58,
   "id": "c0e86c39",
   "metadata": {},
   "outputs": [
    {
     "data": {
      "text/plain": [
       "array(['Year', 'Present_Price', 'Kms_Driven', 'Seller_Type',\n",
       "       'Transmission', 'Owner', 'Fuel_Type_CNG', 'Fuel_Type_Diesel',\n",
       "       'Fuel_Type_Petrol'], dtype=object)"
      ]
     },
     "execution_count": 58,
     "metadata": {},
     "output_type": "execute_result"
    }
   ],
   "source": [
    "linear_reg.feature_names_in_"
   ]
  },
  {
   "cell_type": "raw",
   "id": "9f74f031",
   "metadata": {},
   "source": [
    "Year                  = 2015\n",
    "Present_Price         = 13.6\n",
    "Kms_Driven            = 40324\n",
    "Seller_Type           = \"Dealer\"\n",
    "Transmission          = \"Manual\"\n",
    "Owner                 = 0\n",
    "Fuel_Type             = \"Petrol\""
   ]
  },
  {
   "cell_type": "code",
   "execution_count": 59,
   "id": "e22e2044",
   "metadata": {},
   "outputs": [],
   "source": [
    "#df"
   ]
  },
  {
   "cell_type": "code",
   "execution_count": 60,
   "id": "913ede6e",
   "metadata": {},
   "outputs": [
    {
     "data": {
      "text/plain": [
       "['Year',\n",
       " 'Present_Price',\n",
       " 'Kms_Driven',\n",
       " 'Seller_Type',\n",
       " 'Transmission',\n",
       " 'Owner',\n",
       " 'Fuel_Type_CNG',\n",
       " 'Fuel_Type_Diesel',\n",
       " 'Fuel_Type_Petrol']"
      ]
     },
     "execution_count": 60,
     "metadata": {},
     "output_type": "execute_result"
    }
   ],
   "source": [
    "columns_names = x.columns.tolist()\n",
    "columns_names"
   ]
  },
  {
   "cell_type": "code",
   "execution_count": 61,
   "id": "7233352d",
   "metadata": {},
   "outputs": [
    {
     "data": {
      "text/plain": [
       "9"
      ]
     },
     "execution_count": 61,
     "metadata": {},
     "output_type": "execute_result"
    }
   ],
   "source": [
    "linear_reg.n_features_in_"
   ]
  },
  {
   "cell_type": "code",
   "execution_count": 62,
   "id": "1ca3c415",
   "metadata": {},
   "outputs": [
    {
     "data": {
      "text/plain": [
       "8.63"
      ]
     },
     "execution_count": 62,
     "metadata": {},
     "output_type": "execute_result"
    }
   ],
   "source": [
    "Year                  = 2015\n",
    "Present_Price         = 13.6\n",
    "Kms_Driven            = 40324\n",
    "Fuel_Type             = \"CNG\"\n",
    "Seller_Type           = \"Dealer\"\n",
    "Transmission          = \"Manual\"\n",
    "Owner                 = 0\n",
    "\n",
    "\n",
    "\n",
    "Seller_Type = Seller_Type_Data[Seller_Type]\n",
    "Transmission = Transmission_data[Transmission]\n",
    "Fuel_Type = \"Fuel_Type_\" + Fuel_Type\n",
    "\n",
    "\n",
    "Fuel_Type_index =columns_names.index(Fuel_Type)\n",
    "Fuel_Type_index\n",
    "\n",
    "\n",
    "test_array = np.zeros([1,linear_reg.n_features_in_])\n",
    "\n",
    "test_array[0,0] = Year\n",
    "test_array[0,1] = Present_Price\n",
    "test_array[0,2] = Kms_Driven\n",
    "test_array[0,Fuel_Type_index] = 1\n",
    "test_array[0,4] = Seller_Type\n",
    "test_array[0,5] = Transmission\n",
    "test_array[0,6] = Owner\n",
    "\n",
    "\n",
    "predict_charges = np.around(linear_reg.predict(test_array)[0], 2)\n",
    "predict_charges"
   ]
  },
  {
   "cell_type": "markdown",
   "id": "5f875e43",
   "metadata": {},
   "source": [
    "### pickle and json"
   ]
  },
  {
   "cell_type": "code",
   "execution_count": 63,
   "id": "c8725535",
   "metadata": {},
   "outputs": [],
   "source": [
    "with open(\"linear_regression_car_dekho.pkl\", 'wb') as f:\n",
    "    pickle.dump(linear_reg, f)\n"
   ]
  },
  {
   "cell_type": "code",
   "execution_count": 64,
   "id": "da4d6d1d",
   "metadata": {},
   "outputs": [],
   "source": [
    "Project_Data = {'Seller_Type':Seller_Type_Data,\n",
    "               'Transmission':Transmission_data,\n",
    "              'Columns_Names':columns_names }\n",
    "\n",
    "with open ('car_dekho_project_data.json', 'w') as f:\n",
    "    json.dump(Project_Data,f)"
   ]
  },
  {
   "cell_type": "code",
   "execution_count": null,
   "id": "276f3fe2",
   "metadata": {},
   "outputs": [],
   "source": []
  }
 ],
 "metadata": {
  "kernelspec": {
   "display_name": "Python 3 (ipykernel)",
   "language": "python",
   "name": "python3"
  },
  "language_info": {
   "codemirror_mode": {
    "name": "ipython",
    "version": 3
   },
   "file_extension": ".py",
   "mimetype": "text/x-python",
   "name": "python",
   "nbconvert_exporter": "python",
   "pygments_lexer": "ipython3",
   "version": "3.11.2"
  }
 },
 "nbformat": 4,
 "nbformat_minor": 5
}
